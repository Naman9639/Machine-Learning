{
  "nbformat": 4,
  "nbformat_minor": 0,
  "metadata": {
    "colab": {
      "name": "house_pricing1.ipynb",
      "version": "0.3.2",
      "views": {},
      "default_view": {},
      "provenance": []
    },
    "kernelspec": {
      "name": "python2",
      "display_name": "Python 2"
    },
    "accelerator": "GPU"
  },
  "cells": [
    {
      "metadata": {
        "id": "aaE2-9d9wFuy",
        "colab_type": "code",
        "colab": {
          "autoexec": {
            "startup": false,
            "wait_interval": 0
          },
          "resources": {
            "http://localhost:8080/nbextensions/google.colab/files.js": {
              "data": "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",
              "ok": true,
              "headers": [
                [
                  "content-type",
                  "application/javascript"
                ]
              ],
              "status": 200,
              "status_text": "OK"
            }
          },
          "base_uri": "https://localhost:8080/",
          "height": 150
        },
        "outputId": "2edf48b3-931e-4b85-899f-2527fee77c9b",
        "executionInfo": {
          "status": "ok",
          "timestamp": 1525548200370,
          "user_tz": -330,
          "elapsed": 26728,
          "user": {
            "displayName": "Naman Agarwal",
            "photoUrl": "https://lh3.googleusercontent.com/a/default-user=s128",
            "userId": "106899091211332196534"
          }
        }
      },
      "cell_type": "code",
      "source": [
        "from google.colab import files\n",
        "\n",
        "uploaded = files.upload()\n",
        "\n",
        "for fn in uploaded.keys():\n",
        "  print('User uploaded file \"{name}\" with length {length} bytes'.format(name=fn, length=len(uploaded[fn])))"
      ],
      "execution_count": 1,
      "outputs": [
        {
          "output_type": "display_data",
          "data": {
            "text/plain": [
              "<IPython.core.display.HTML object>"
            ],
            "text/html": [
              "\n",
              "     <input type=\"file\" id=\"files-d88df8c2-6c47-4f71-9d48-3c6aa57a5b37\" name=\"files[]\" multiple disabled />\n",
              "     <output id=\"result-d88df8c2-6c47-4f71-9d48-3c6aa57a5b37\">\n",
              "      Upload widget is only available when the cell has been executed in the\n",
              "      current browser session. Please rerun this cell to enable.\n",
              "      </output>\n",
              "      <script src=\"/nbextensions/google.colab/files.js\"></script> "
            ]
          },
          "metadata": {
            "tags": []
          }
        },
        {
          "output_type": "stream",
          "text": [
            "Saving test.csv to test.csv\n",
            "Saving train.csv to train.csv\n",
            "User uploaded file \"test.csv\" with length 451405 bytes\n",
            "User uploaded file \"train.csv\" with length 460676 bytes\n"
          ],
          "name": "stdout"
        }
      ]
    },
    {
      "metadata": {
        "id": "ZMy49SKNwTxE",
        "colab_type": "code",
        "colab": {
          "autoexec": {
            "startup": false,
            "wait_interval": 0
          }
        }
      },
      "cell_type": "code",
      "source": [
        "import pandas as pd\n",
        "import numpy as np\n",
        "import io"
      ],
      "execution_count": 0,
      "outputs": []
    },
    {
      "metadata": {
        "id": "FdEYGzENwo1K",
        "colab_type": "code",
        "colab": {
          "autoexec": {
            "startup": false,
            "wait_interval": 0
          }
        }
      },
      "cell_type": "code",
      "source": [
        "train = pd.read_csv(io.StringIO(uploaded['train.csv'].decode('utf-8')))\n",
        "test = pd.read_csv(io.StringIO(uploaded['test.csv'].decode('utf-8')))\n"
      ],
      "execution_count": 0,
      "outputs": []
    },
    {
      "metadata": {
        "id": "aeaIMGBaw820",
        "colab_type": "code",
        "colab": {
          "autoexec": {
            "startup": false,
            "wait_interval": 0
          },
          "base_uri": "https://localhost:8080/",
          "height": 52
        },
        "outputId": "367d9c35-549a-474d-bb00-2e583e5bad21",
        "executionInfo": {
          "status": "ok",
          "timestamp": 1525548319804,
          "user_tz": -330,
          "elapsed": 826,
          "user": {
            "displayName": "Naman Agarwal",
            "photoUrl": "https://lh3.googleusercontent.com/a/default-user=s128",
            "userId": "106899091211332196534"
          }
        }
      },
      "cell_type": "code",
      "source": [
        "print (\"Train data shape:\", train.shape)\n",
        "print (\"Test data shape:\", test.shape)"
      ],
      "execution_count": 4,
      "outputs": [
        {
          "output_type": "stream",
          "text": [
            "('Train data shape:', (1460, 81))\n",
            "('Test data shape:', (1459, 80))\n"
          ],
          "name": "stdout"
        }
      ]
    },
    {
      "metadata": {
        "id": "1-nSgAfdw_8-",
        "colab_type": "code",
        "colab": {
          "autoexec": {
            "startup": false,
            "wait_interval": 0
          },
          "base_uri": "https://localhost:8080/",
          "height": 256
        },
        "outputId": "49eac8b8-f62b-49b0-ae9f-c79f7a573061",
        "executionInfo": {
          "status": "ok",
          "timestamp": 1525548340786,
          "user_tz": -330,
          "elapsed": 834,
          "user": {
            "displayName": "Naman Agarwal",
            "photoUrl": "https://lh3.googleusercontent.com/a/default-user=s128",
            "userId": "106899091211332196534"
          }
        }
      },
      "cell_type": "code",
      "source": [
        "train.head()"
      ],
      "execution_count": 5,
      "outputs": [
        {
          "output_type": "execute_result",
          "data": {
            "text/html": [
              "<div>\n",
              "<style scoped>\n",
              "    .dataframe tbody tr th:only-of-type {\n",
              "        vertical-align: middle;\n",
              "    }\n",
              "\n",
              "    .dataframe tbody tr th {\n",
              "        vertical-align: top;\n",
              "    }\n",
              "\n",
              "    .dataframe thead th {\n",
              "        text-align: right;\n",
              "    }\n",
              "</style>\n",
              "<table border=\"1\" class=\"dataframe\">\n",
              "  <thead>\n",
              "    <tr style=\"text-align: right;\">\n",
              "      <th></th>\n",
              "      <th>Id</th>\n",
              "      <th>MSSubClass</th>\n",
              "      <th>MSZoning</th>\n",
              "      <th>LotFrontage</th>\n",
              "      <th>LotArea</th>\n",
              "      <th>Street</th>\n",
              "      <th>Alley</th>\n",
              "      <th>LotShape</th>\n",
              "      <th>LandContour</th>\n",
              "      <th>Utilities</th>\n",
              "      <th>...</th>\n",
              "      <th>PoolArea</th>\n",
              "      <th>PoolQC</th>\n",
              "      <th>Fence</th>\n",
              "      <th>MiscFeature</th>\n",
              "      <th>MiscVal</th>\n",
              "      <th>MoSold</th>\n",
              "      <th>YrSold</th>\n",
              "      <th>SaleType</th>\n",
              "      <th>SaleCondition</th>\n",
              "      <th>SalePrice</th>\n",
              "    </tr>\n",
              "  </thead>\n",
              "  <tbody>\n",
              "    <tr>\n",
              "      <th>0</th>\n",
              "      <td>1</td>\n",
              "      <td>60</td>\n",
              "      <td>RL</td>\n",
              "      <td>65.0</td>\n",
              "      <td>8450</td>\n",
              "      <td>Pave</td>\n",
              "      <td>NaN</td>\n",
              "      <td>Reg</td>\n",
              "      <td>Lvl</td>\n",
              "      <td>AllPub</td>\n",
              "      <td>...</td>\n",
              "      <td>0</td>\n",
              "      <td>NaN</td>\n",
              "      <td>NaN</td>\n",
              "      <td>NaN</td>\n",
              "      <td>0</td>\n",
              "      <td>2</td>\n",
              "      <td>2008</td>\n",
              "      <td>WD</td>\n",
              "      <td>Normal</td>\n",
              "      <td>208500</td>\n",
              "    </tr>\n",
              "    <tr>\n",
              "      <th>1</th>\n",
              "      <td>2</td>\n",
              "      <td>20</td>\n",
              "      <td>RL</td>\n",
              "      <td>80.0</td>\n",
              "      <td>9600</td>\n",
              "      <td>Pave</td>\n",
              "      <td>NaN</td>\n",
              "      <td>Reg</td>\n",
              "      <td>Lvl</td>\n",
              "      <td>AllPub</td>\n",
              "      <td>...</td>\n",
              "      <td>0</td>\n",
              "      <td>NaN</td>\n",
              "      <td>NaN</td>\n",
              "      <td>NaN</td>\n",
              "      <td>0</td>\n",
              "      <td>5</td>\n",
              "      <td>2007</td>\n",
              "      <td>WD</td>\n",
              "      <td>Normal</td>\n",
              "      <td>181500</td>\n",
              "    </tr>\n",
              "    <tr>\n",
              "      <th>2</th>\n",
              "      <td>3</td>\n",
              "      <td>60</td>\n",
              "      <td>RL</td>\n",
              "      <td>68.0</td>\n",
              "      <td>11250</td>\n",
              "      <td>Pave</td>\n",
              "      <td>NaN</td>\n",
              "      <td>IR1</td>\n",
              "      <td>Lvl</td>\n",
              "      <td>AllPub</td>\n",
              "      <td>...</td>\n",
              "      <td>0</td>\n",
              "      <td>NaN</td>\n",
              "      <td>NaN</td>\n",
              "      <td>NaN</td>\n",
              "      <td>0</td>\n",
              "      <td>9</td>\n",
              "      <td>2008</td>\n",
              "      <td>WD</td>\n",
              "      <td>Normal</td>\n",
              "      <td>223500</td>\n",
              "    </tr>\n",
              "    <tr>\n",
              "      <th>3</th>\n",
              "      <td>4</td>\n",
              "      <td>70</td>\n",
              "      <td>RL</td>\n",
              "      <td>60.0</td>\n",
              "      <td>9550</td>\n",
              "      <td>Pave</td>\n",
              "      <td>NaN</td>\n",
              "      <td>IR1</td>\n",
              "      <td>Lvl</td>\n",
              "      <td>AllPub</td>\n",
              "      <td>...</td>\n",
              "      <td>0</td>\n",
              "      <td>NaN</td>\n",
              "      <td>NaN</td>\n",
              "      <td>NaN</td>\n",
              "      <td>0</td>\n",
              "      <td>2</td>\n",
              "      <td>2006</td>\n",
              "      <td>WD</td>\n",
              "      <td>Abnorml</td>\n",
              "      <td>140000</td>\n",
              "    </tr>\n",
              "    <tr>\n",
              "      <th>4</th>\n",
              "      <td>5</td>\n",
              "      <td>60</td>\n",
              "      <td>RL</td>\n",
              "      <td>84.0</td>\n",
              "      <td>14260</td>\n",
              "      <td>Pave</td>\n",
              "      <td>NaN</td>\n",
              "      <td>IR1</td>\n",
              "      <td>Lvl</td>\n",
              "      <td>AllPub</td>\n",
              "      <td>...</td>\n",
              "      <td>0</td>\n",
              "      <td>NaN</td>\n",
              "      <td>NaN</td>\n",
              "      <td>NaN</td>\n",
              "      <td>0</td>\n",
              "      <td>12</td>\n",
              "      <td>2008</td>\n",
              "      <td>WD</td>\n",
              "      <td>Normal</td>\n",
              "      <td>250000</td>\n",
              "    </tr>\n",
              "  </tbody>\n",
              "</table>\n",
              "<p>5 rows × 81 columns</p>\n",
              "</div>"
            ],
            "text/plain": [
              "   Id  MSSubClass MSZoning  LotFrontage  LotArea Street Alley LotShape  \\\n",
              "0   1          60       RL         65.0     8450   Pave   NaN      Reg   \n",
              "1   2          20       RL         80.0     9600   Pave   NaN      Reg   \n",
              "2   3          60       RL         68.0    11250   Pave   NaN      IR1   \n",
              "3   4          70       RL         60.0     9550   Pave   NaN      IR1   \n",
              "4   5          60       RL         84.0    14260   Pave   NaN      IR1   \n",
              "\n",
              "  LandContour Utilities    ...     PoolArea PoolQC Fence MiscFeature MiscVal  \\\n",
              "0         Lvl    AllPub    ...            0    NaN   NaN         NaN       0   \n",
              "1         Lvl    AllPub    ...            0    NaN   NaN         NaN       0   \n",
              "2         Lvl    AllPub    ...            0    NaN   NaN         NaN       0   \n",
              "3         Lvl    AllPub    ...            0    NaN   NaN         NaN       0   \n",
              "4         Lvl    AllPub    ...            0    NaN   NaN         NaN       0   \n",
              "\n",
              "  MoSold YrSold  SaleType  SaleCondition  SalePrice  \n",
              "0      2   2008        WD         Normal     208500  \n",
              "1      5   2007        WD         Normal     181500  \n",
              "2      9   2008        WD         Normal     223500  \n",
              "3      2   2006        WD        Abnorml     140000  \n",
              "4     12   2008        WD         Normal     250000  \n",
              "\n",
              "[5 rows x 81 columns]"
            ]
          },
          "metadata": {
            "tags": []
          },
          "execution_count": 5
        }
      ]
    },
    {
      "metadata": {
        "id": "9UI8Zbr7xFFO",
        "colab_type": "code",
        "colab": {
          "autoexec": {
            "startup": false,
            "wait_interval": 0
          }
        }
      },
      "cell_type": "code",
      "source": [
        "import matplotlib.pyplot as plt\n",
        "plt.style.use(style='ggplot')\n",
        "plt.rcParams['figure.figsize'] = (10, 6)\n"
      ],
      "execution_count": 0,
      "outputs": []
    },
    {
      "metadata": {
        "id": "R1Hc0q24xULo",
        "colab_type": "code",
        "colab": {
          "autoexec": {
            "startup": false,
            "wait_interval": 0
          },
          "base_uri": "https://localhost:8080/",
          "height": 173
        },
        "outputId": "69410b8f-3353-4622-cad1-1c9e654cfc7a",
        "executionInfo": {
          "status": "ok",
          "timestamp": 1525548490524,
          "user_tz": -330,
          "elapsed": 1020,
          "user": {
            "displayName": "Naman Agarwal",
            "photoUrl": "https://lh3.googleusercontent.com/a/default-user=s128",
            "userId": "106899091211332196534"
          }
        }
      },
      "cell_type": "code",
      "source": [
        "train.SalePrice.describe()"
      ],
      "execution_count": 7,
      "outputs": [
        {
          "output_type": "execute_result",
          "data": {
            "text/plain": [
              "count      1460.000000\n",
              "mean     180921.195890\n",
              "std       79442.502883\n",
              "min       34900.000000\n",
              "25%      129975.000000\n",
              "50%      163000.000000\n",
              "75%      214000.000000\n",
              "max      755000.000000\n",
              "Name: SalePrice, dtype: float64"
            ]
          },
          "metadata": {
            "tags": []
          },
          "execution_count": 7
        }
      ]
    },
    {
      "metadata": {
        "id": "fVi2uaSbxplE",
        "colab_type": "code",
        "colab": {
          "autoexec": {
            "startup": false,
            "wait_interval": 0
          },
          "base_uri": "https://localhost:8080/",
          "height": 391
        },
        "outputId": "ad607981-fc8f-48e9-d7b6-0d6548b34f58",
        "executionInfo": {
          "status": "ok",
          "timestamp": 1525548504362,
          "user_tz": -330,
          "elapsed": 972,
          "user": {
            "displayName": "Naman Agarwal",
            "photoUrl": "https://lh3.googleusercontent.com/a/default-user=s128",
            "userId": "106899091211332196534"
          }
        }
      },
      "cell_type": "code",
      "source": [
        "print (\"Skew is:\", train.SalePrice.skew())\n",
        "plt.hist(train.SalePrice, color='blue')\n",
        "plt.show()\n"
      ],
      "execution_count": 8,
      "outputs": [
        {
          "output_type": "stream",
          "text": [
            "('Skew is:', 1.8828757597682129)\n"
          ],
          "name": "stdout"
        },
        {
          "output_type": "display_data",
          "data": {
            "image/png": "[encoded data removed]",
            "text/plain": [
              "<matplotlib.figure.Figure at 0x7fd099667f10>"
            ]
          },
          "metadata": {
            "tags": []
          }
        }
      ]
    },
    {
      "metadata": {
        "id": "Sd9p1Io0xs9c",
        "colab_type": "code",
        "colab": {
          "autoexec": {
            "startup": false,
            "wait_interval": 0
          },
          "base_uri": "https://localhost:8080/",
          "height": 391
        },
        "outputId": "67985fce-6c0a-443d-cc90-f6ef2eed69e9",
        "executionInfo": {
          "status": "ok",
          "timestamp": 1525548517972,
          "user_tz": -330,
          "elapsed": 958,
          "user": {
            "displayName": "Naman Agarwal",
            "photoUrl": "https://lh3.googleusercontent.com/a/default-user=s128",
            "userId": "106899091211332196534"
          }
        }
      },
      "cell_type": "code",
      "source": [
        "target = np.log(train.SalePrice)\n",
        "print (\"Skew is:\", target.skew())\n",
        "plt.hist(target, color='blue')\n",
        "plt.show()\n"
      ],
      "execution_count": 9,
      "outputs": [
        {
          "output_type": "stream",
          "text": [
            "('Skew is:', 0.12133506220520406)\n"
          ],
          "name": "stdout"
        },
        {
          "output_type": "display_data",
          "data": {
            "image/png": "[encoded data removed]",
            "text/plain": [
              "<matplotlib.figure.Figure at 0x7fd0996a81d0>"
            ]
          },
          "metadata": {
            "tags": []
          }
        }
      ]
    },
    {
      "metadata": {
        "id": "ZlwkaGPfxwSi",
        "colab_type": "code",
        "colab": {
          "autoexec": {
            "startup": false,
            "wait_interval": 0
          },
          "base_uri": "https://localhost:8080/",
          "height": 694
        },
        "outputId": "de5d284a-f72d-457a-e0ec-daf3130824a1",
        "executionInfo": {
          "status": "ok",
          "timestamp": 1525548535072,
          "user_tz": -330,
          "elapsed": 1286,
          "user": {
            "displayName": "Naman Agarwal",
            "photoUrl": "https://lh3.googleusercontent.com/a/default-user=s128",
            "userId": "106899091211332196534"
          }
        }
      },
      "cell_type": "code",
      "source": [
        "numeric_features = train.select_dtypes(include=[np.number])\n",
        "numeric_features.dtypes\n"
      ],
      "execution_count": 10,
      "outputs": [
        {
          "output_type": "execute_result",
          "data": {
            "text/plain": [
              "Id                 int64\n",
              "MSSubClass         int64\n",
              "LotFrontage      float64\n",
              "LotArea            int64\n",
              "OverallQual        int64\n",
              "OverallCond        int64\n",
              "YearBuilt          int64\n",
              "YearRemodAdd       int64\n",
              "MasVnrArea       float64\n",
              "BsmtFinSF1         int64\n",
              "BsmtFinSF2         int64\n",
              "BsmtUnfSF          int64\n",
              "TotalBsmtSF        int64\n",
              "1stFlrSF           int64\n",
              "2ndFlrSF           int64\n",
              "LowQualFinSF       int64\n",
              "GrLivArea          int64\n",
              "BsmtFullBath       int64\n",
              "BsmtHalfBath       int64\n",
              "FullBath           int64\n",
              "HalfBath           int64\n",
              "BedroomAbvGr       int64\n",
              "KitchenAbvGr       int64\n",
              "TotRmsAbvGrd       int64\n",
              "Fireplaces         int64\n",
              "GarageYrBlt      float64\n",
              "GarageCars         int64\n",
              "GarageArea         int64\n",
              "WoodDeckSF         int64\n",
              "OpenPorchSF        int64\n",
              "EnclosedPorch      int64\n",
              "3SsnPorch          int64\n",
              "ScreenPorch        int64\n",
              "PoolArea           int64\n",
              "MiscVal            int64\n",
              "MoSold             int64\n",
              "YrSold             int64\n",
              "SalePrice          int64\n",
              "dtype: object"
            ]
          },
          "metadata": {
            "tags": []
          },
          "execution_count": 10
        }
      ]
    },
    {
      "metadata": {
        "id": "TkmD5FWqx0YQ",
        "colab_type": "code",
        "colab": {
          "autoexec": {
            "startup": false,
            "wait_interval": 0
          },
          "base_uri": "https://localhost:8080/",
          "height": 225
        },
        "outputId": "836bfbf2-1a08-4e43-e08b-01a1874b30f2",
        "executionInfo": {
          "status": "ok",
          "timestamp": 1525548558136,
          "user_tz": -330,
          "elapsed": 836,
          "user": {
            "displayName": "Naman Agarwal",
            "photoUrl": "https://lh3.googleusercontent.com/a/default-user=s128",
            "userId": "106899091211332196534"
          }
        }
      },
      "cell_type": "code",
      "source": [
        "corr = numeric_features.corr()\n",
        "\n",
        "print (corr['SalePrice'].sort_values(ascending=False)[:5], '\\n')\n",
        "print (corr['SalePrice'].sort_values(ascending=False)[-5:])"
      ],
      "execution_count": 11,
      "outputs": [
        {
          "output_type": "stream",
          "text": [
            "(SalePrice      1.000000\n",
            "OverallQual    0.790982\n",
            "GrLivArea      0.708624\n",
            "GarageCars     0.640409\n",
            "GarageArea     0.623431\n",
            "Name: SalePrice, dtype: float64, '\\n')\n",
            "YrSold          -0.028923\n",
            "OverallCond     -0.077856\n",
            "MSSubClass      -0.084284\n",
            "EnclosedPorch   -0.128578\n",
            "KitchenAbvGr    -0.135907\n",
            "Name: SalePrice, dtype: float64\n"
          ],
          "name": "stdout"
        }
      ]
    },
    {
      "metadata": {
        "id": "UM7TOOX1x6Hm",
        "colab_type": "code",
        "colab": {
          "autoexec": {
            "startup": false,
            "wait_interval": 0
          },
          "base_uri": "https://localhost:8080/",
          "height": 34
        },
        "outputId": "fa099ea1-46e8-46f6-8b8f-cf5e52e23494",
        "executionInfo": {
          "status": "ok",
          "timestamp": 1525548586572,
          "user_tz": -330,
          "elapsed": 984,
          "user": {
            "displayName": "Naman Agarwal",
            "photoUrl": "https://lh3.googleusercontent.com/a/default-user=s128",
            "userId": "106899091211332196534"
          }
        }
      },
      "cell_type": "code",
      "source": [
        "train.OverallQual.unique()"
      ],
      "execution_count": 12,
      "outputs": [
        {
          "output_type": "execute_result",
          "data": {
            "text/plain": [
              "array([ 7,  6,  8,  5,  9,  4, 10,  3,  1,  2])"
            ]
          },
          "metadata": {
            "tags": []
          },
          "execution_count": 12
        }
      ]
    },
    {
      "metadata": {
        "id": "pv9yZf-8yBBi",
        "colab_type": "code",
        "colab": {
          "autoexec": {
            "startup": false,
            "wait_interval": 0
          }
        }
      },
      "cell_type": "code",
      "source": [
        "quality_pivot = train.pivot_table(index='OverallQual',\n",
        "                                  values='SalePrice', aggfunc=np.median)\n"
      ],
      "execution_count": 0,
      "outputs": []
    },
    {
      "metadata": {
        "id": "2L48usgsyHyw",
        "colab_type": "code",
        "colab": {
          "autoexec": {
            "startup": false,
            "wait_interval": 0
          },
          "base_uri": "https://localhost:8080/",
          "height": 394
        },
        "outputId": "28adeffd-672c-4c70-eacf-00a8459aaacb",
        "executionInfo": {
          "status": "ok",
          "timestamp": 1525548624870,
          "user_tz": -330,
          "elapsed": 1064,
          "user": {
            "displayName": "Naman Agarwal",
            "photoUrl": "https://lh3.googleusercontent.com/a/default-user=s128",
            "userId": "106899091211332196534"
          }
        }
      },
      "cell_type": "code",
      "source": [
        "quality_pivot\n"
      ],
      "execution_count": 14,
      "outputs": [
        {
          "output_type": "execute_result",
          "data": {
            "text/html": [
              "<div>\n",
              "<style scoped>\n",
              "    .dataframe tbody tr th:only-of-type {\n",
              "        vertical-align: middle;\n",
              "    }\n",
              "\n",
              "    .dataframe tbody tr th {\n",
              "        vertical-align: top;\n",
              "    }\n",
              "\n",
              "    .dataframe thead th {\n",
              "        text-align: right;\n",
              "    }\n",
              "</style>\n",
              "<table border=\"1\" class=\"dataframe\">\n",
              "  <thead>\n",
              "    <tr style=\"text-align: right;\">\n",
              "      <th></th>\n",
              "      <th>SalePrice</th>\n",
              "    </tr>\n",
              "    <tr>\n",
              "      <th>OverallQual</th>\n",
              "      <th></th>\n",
              "    </tr>\n",
              "  </thead>\n",
              "  <tbody>\n",
              "    <tr>\n",
              "      <th>1</th>\n",
              "      <td>50150</td>\n",
              "    </tr>\n",
              "    <tr>\n",
              "      <th>2</th>\n",
              "      <td>60000</td>\n",
              "    </tr>\n",
              "    <tr>\n",
              "      <th>3</th>\n",
              "      <td>86250</td>\n",
              "    </tr>\n",
              "    <tr>\n",
              "      <th>4</th>\n",
              "      <td>108000</td>\n",
              "    </tr>\n",
              "    <tr>\n",
              "      <th>5</th>\n",
              "      <td>133000</td>\n",
              "    </tr>\n",
              "    <tr>\n",
              "      <th>6</th>\n",
              "      <td>160000</td>\n",
              "    </tr>\n",
              "    <tr>\n",
              "      <th>7</th>\n",
              "      <td>200141</td>\n",
              "    </tr>\n",
              "    <tr>\n",
              "      <th>8</th>\n",
              "      <td>269750</td>\n",
              "    </tr>\n",
              "    <tr>\n",
              "      <th>9</th>\n",
              "      <td>345000</td>\n",
              "    </tr>\n",
              "    <tr>\n",
              "      <th>10</th>\n",
              "      <td>432390</td>\n",
              "    </tr>\n",
              "  </tbody>\n",
              "</table>\n",
              "</div>"
            ],
            "text/plain": [
              "             SalePrice\n",
              "OverallQual           \n",
              "1                50150\n",
              "2                60000\n",
              "3                86250\n",
              "4               108000\n",
              "5               133000\n",
              "6               160000\n",
              "7               200141\n",
              "8               269750\n",
              "9               345000\n",
              "10              432390"
            ]
          },
          "metadata": {
            "tags": []
          },
          "execution_count": 14
        }
      ]
    },
    {
      "metadata": {
        "id": "Vq9dGIyVyKWc",
        "colab_type": "code",
        "colab": {
          "autoexec": {
            "startup": false,
            "wait_interval": 0
          },
          "base_uri": "https://localhost:8080/",
          "height": 390
        },
        "outputId": "9d429faf-60bf-4b2d-cd51-a15aab74f568",
        "executionInfo": {
          "status": "ok",
          "timestamp": 1525548639264,
          "user_tz": -330,
          "elapsed": 882,
          "user": {
            "displayName": "Naman Agarwal",
            "photoUrl": "https://lh3.googleusercontent.com/a/default-user=s128",
            "userId": "106899091211332196534"
          }
        }
      },
      "cell_type": "code",
      "source": [
        "quality_pivot.plot(kind='bar', color='blue')\n",
        "plt.xlabel('Overall Quality')\n",
        "plt.ylabel('Median Sale Price')\n",
        "plt.xticks(rotation=0)\n",
        "plt.show()"
      ],
      "execution_count": 15,
      "outputs": [
        {
          "output_type": "display_data",
          "data": {
            "image/png": "[encoded data removed]",
            "text/plain": [
              "<matplotlib.figure.Figure at 0x7fd0996a8350>"
            ]
          },
          "metadata": {
            "tags": []
          }
        }
      ]
    },
    {
      "metadata": {
        "id": "CqJsW5mcyN6I",
        "colab_type": "code",
        "colab": {
          "autoexec": {
            "startup": false,
            "wait_interval": 0
          },
          "base_uri": "https://localhost:8080/",
          "height": 390
        },
        "outputId": "b120d2fd-6501-4eb8-8285-e8a0b8c8860c",
        "executionInfo": {
          "status": "ok",
          "timestamp": 1525548665750,
          "user_tz": -330,
          "elapsed": 1164,
          "user": {
            "displayName": "Naman Agarwal",
            "photoUrl": "https://lh3.googleusercontent.com/a/default-user=s128",
            "userId": "106899091211332196534"
          }
        }
      },
      "cell_type": "code",
      "source": [
        "plt.scatter(x=train['GrLivArea'], y=target)\n",
        "plt.ylabel('Sale Price')\n",
        "plt.xlabel('Above grade (ground) living area square feet')\n",
        "plt.show()"
      ],
      "execution_count": 16,
      "outputs": [
        {
          "output_type": "display_data",
          "data": {
            "image/png": "[encoded data removed]",
            "text/plain": [
              "<matplotlib.figure.Figure at 0x7fd0974b7650>"
            ]
          },
          "metadata": {
            "tags": []
          }
        }
      ]
    },
    {
      "metadata": {
        "id": "R49JjFCeyUTu",
        "colab_type": "code",
        "colab": {
          "autoexec": {
            "startup": false,
            "wait_interval": 0
          },
          "base_uri": "https://localhost:8080/",
          "height": 390
        },
        "outputId": "a25854f6-e5e8-4e05-8bf4-5117cfc862c7",
        "executionInfo": {
          "status": "ok",
          "timestamp": 1525548684994,
          "user_tz": -330,
          "elapsed": 1132,
          "user": {
            "displayName": "Naman Agarwal",
            "photoUrl": "https://lh3.googleusercontent.com/a/default-user=s128",
            "userId": "106899091211332196534"
          }
        }
      },
      "cell_type": "code",
      "source": [
        "plt.scatter(x=train['GarageArea'], y=target)\n",
        "plt.ylabel('Sale Price')\n",
        "plt.xlabel('Garage Area')\n",
        "plt.show()"
      ],
      "execution_count": 17,
      "outputs": [
        {
          "output_type": "display_data",
          "data": {
            "image/png": "[encoded data removed]",
            "text/plain": [
              "<matplotlib.figure.Figure at 0x7fd0973edfd0>"
            ]
          },
          "metadata": {
            "tags": []
          }
        }
      ]
    },
    {
      "metadata": {
        "id": "M2Fx7wP3yZAe",
        "colab_type": "code",
        "colab": {
          "autoexec": {
            "startup": false,
            "wait_interval": 0
          }
        }
      },
      "cell_type": "code",
      "source": [
        "train = train[train['GarageArea'] < 1200]"
      ],
      "execution_count": 0,
      "outputs": []
    },
    {
      "metadata": {
        "id": "PsUXyUt3yfIi",
        "colab_type": "code",
        "colab": {
          "autoexec": {
            "startup": false,
            "wait_interval": 0
          },
          "base_uri": "https://localhost:8080/",
          "height": 390
        },
        "outputId": "65f82369-5b2b-477a-ab2a-d225a423eb1a",
        "executionInfo": {
          "status": "ok",
          "timestamp": 1525548725266,
          "user_tz": -330,
          "elapsed": 1258,
          "user": {
            "displayName": "Naman Agarwal",
            "photoUrl": "https://lh3.googleusercontent.com/a/default-user=s128",
            "userId": "106899091211332196534"
          }
        }
      },
      "cell_type": "code",
      "source": [
        "plt.scatter(x=train['GarageArea'], y=np.log(train.SalePrice))\n",
        "plt.xlim(-200,1600) # This forces the same scale as before\n",
        "plt.ylabel('Sale Price')\n",
        "plt.xlabel('Garage Area')\n",
        "plt.show()"
      ],
      "execution_count": 19,
      "outputs": [
        {
          "output_type": "display_data",
          "data": {
            "image/png": "[encoded data removed]",
            "text/plain": [
              "<matplotlib.figure.Figure at 0x7fd097347b90>"
            ]
          },
          "metadata": {
            "tags": []
          }
        }
      ]
    },
    {
      "metadata": {
        "id": "KDX63cJlyizY",
        "colab_type": "code",
        "colab": {
          "autoexec": {
            "startup": false,
            "wait_interval": 0
          },
          "base_uri": "https://localhost:8080/",
          "height": 865
        },
        "outputId": "b54e8f05-c02e-4a31-d2d1-917297f6dbed",
        "executionInfo": {
          "status": "ok",
          "timestamp": 1525548737234,
          "user_tz": -330,
          "elapsed": 922,
          "user": {
            "displayName": "Naman Agarwal",
            "photoUrl": "https://lh3.googleusercontent.com/a/default-user=s128",
            "userId": "106899091211332196534"
          }
        }
      },
      "cell_type": "code",
      "source": [
        "nulls = pd.DataFrame(train.isnull().sum().sort_values(ascending=False)[:25])\n",
        "nulls.columns = ['Null Count']\n",
        "nulls.index.name = 'Feature'\n",
        "nulls"
      ],
      "execution_count": 20,
      "outputs": [
        {
          "output_type": "execute_result",
          "data": {
            "text/html": [
              "<div>\n",
              "<style scoped>\n",
              "    .dataframe tbody tr th:only-of-type {\n",
              "        vertical-align: middle;\n",
              "    }\n",
              "\n",
              "    .dataframe tbody tr th {\n",
              "        vertical-align: top;\n",
              "    }\n",
              "\n",
              "    .dataframe thead th {\n",
              "        text-align: right;\n",
              "    }\n",
              "</style>\n",
              "<table border=\"1\" class=\"dataframe\">\n",
              "  <thead>\n",
              "    <tr style=\"text-align: right;\">\n",
              "      <th></th>\n",
              "      <th>Null Count</th>\n",
              "    </tr>\n",
              "    <tr>\n",
              "      <th>Feature</th>\n",
              "      <th></th>\n",
              "    </tr>\n",
              "  </thead>\n",
              "  <tbody>\n",
              "    <tr>\n",
              "      <th>PoolQC</th>\n",
              "      <td>1449</td>\n",
              "    </tr>\n",
              "    <tr>\n",
              "      <th>MiscFeature</th>\n",
              "      <td>1402</td>\n",
              "    </tr>\n",
              "    <tr>\n",
              "      <th>Alley</th>\n",
              "      <td>1364</td>\n",
              "    </tr>\n",
              "    <tr>\n",
              "      <th>Fence</th>\n",
              "      <td>1174</td>\n",
              "    </tr>\n",
              "    <tr>\n",
              "      <th>FireplaceQu</th>\n",
              "      <td>689</td>\n",
              "    </tr>\n",
              "    <tr>\n",
              "      <th>LotFrontage</th>\n",
              "      <td>258</td>\n",
              "    </tr>\n",
              "    <tr>\n",
              "      <th>GarageCond</th>\n",
              "      <td>81</td>\n",
              "    </tr>\n",
              "    <tr>\n",
              "      <th>GarageType</th>\n",
              "      <td>81</td>\n",
              "    </tr>\n",
              "    <tr>\n",
              "      <th>GarageYrBlt</th>\n",
              "      <td>81</td>\n",
              "    </tr>\n",
              "    <tr>\n",
              "      <th>GarageFinish</th>\n",
              "      <td>81</td>\n",
              "    </tr>\n",
              "    <tr>\n",
              "      <th>GarageQual</th>\n",
              "      <td>81</td>\n",
              "    </tr>\n",
              "    <tr>\n",
              "      <th>BsmtExposure</th>\n",
              "      <td>38</td>\n",
              "    </tr>\n",
              "    <tr>\n",
              "      <th>BsmtFinType2</th>\n",
              "      <td>38</td>\n",
              "    </tr>\n",
              "    <tr>\n",
              "      <th>BsmtFinType1</th>\n",
              "      <td>37</td>\n",
              "    </tr>\n",
              "    <tr>\n",
              "      <th>BsmtCond</th>\n",
              "      <td>37</td>\n",
              "    </tr>\n",
              "    <tr>\n",
              "      <th>BsmtQual</th>\n",
              "      <td>37</td>\n",
              "    </tr>\n",
              "    <tr>\n",
              "      <th>MasVnrArea</th>\n",
              "      <td>8</td>\n",
              "    </tr>\n",
              "    <tr>\n",
              "      <th>MasVnrType</th>\n",
              "      <td>8</td>\n",
              "    </tr>\n",
              "    <tr>\n",
              "      <th>Electrical</th>\n",
              "      <td>1</td>\n",
              "    </tr>\n",
              "    <tr>\n",
              "      <th>Utilities</th>\n",
              "      <td>0</td>\n",
              "    </tr>\n",
              "    <tr>\n",
              "      <th>YearRemodAdd</th>\n",
              "      <td>0</td>\n",
              "    </tr>\n",
              "    <tr>\n",
              "      <th>MSSubClass</th>\n",
              "      <td>0</td>\n",
              "    </tr>\n",
              "    <tr>\n",
              "      <th>Foundation</th>\n",
              "      <td>0</td>\n",
              "    </tr>\n",
              "    <tr>\n",
              "      <th>ExterCond</th>\n",
              "      <td>0</td>\n",
              "    </tr>\n",
              "    <tr>\n",
              "      <th>ExterQual</th>\n",
              "      <td>0</td>\n",
              "    </tr>\n",
              "  </tbody>\n",
              "</table>\n",
              "</div>"
            ],
            "text/plain": [
              "              Null Count\n",
              "Feature                 \n",
              "PoolQC              1449\n",
              "MiscFeature         1402\n",
              "Alley               1364\n",
              "Fence               1174\n",
              "FireplaceQu          689\n",
              "LotFrontage          258\n",
              "GarageCond            81\n",
              "GarageType            81\n",
              "GarageYrBlt           81\n",
              "GarageFinish          81\n",
              "GarageQual            81\n",
              "BsmtExposure          38\n",
              "BsmtFinType2          38\n",
              "BsmtFinType1          37\n",
              "BsmtCond              37\n",
              "BsmtQual              37\n",
              "MasVnrArea             8\n",
              "MasVnrType             8\n",
              "Electrical             1\n",
              "Utilities              0\n",
              "YearRemodAdd           0\n",
              "MSSubClass             0\n",
              "Foundation             0\n",
              "ExterCond              0\n",
              "ExterQual              0"
            ]
          },
          "metadata": {
            "tags": []
          },
          "execution_count": 20
        }
      ]
    },
    {
      "metadata": {
        "id": "KH3qC2F_ylzY",
        "colab_type": "code",
        "colab": {
          "autoexec": {
            "startup": false,
            "wait_interval": 0
          },
          "base_uri": "https://localhost:8080/",
          "height": 34
        },
        "outputId": "0427e9ca-24fb-462d-aeff-0d80dfc9c33b",
        "executionInfo": {
          "status": "ok",
          "timestamp": 1525548752874,
          "user_tz": -330,
          "elapsed": 1002,
          "user": {
            "displayName": "Naman Agarwal",
            "photoUrl": "https://lh3.googleusercontent.com/a/default-user=s128",
            "userId": "106899091211332196534"
          }
        }
      },
      "cell_type": "code",
      "source": [
        "print (\"Unique values are:\", train.MiscFeature.unique())"
      ],
      "execution_count": 21,
      "outputs": [
        {
          "output_type": "stream",
          "text": [
            "('Unique values are:', array([nan, 'Shed', 'Gar2', 'Othr', 'TenC'], dtype=object))\n"
          ],
          "name": "stdout"
        }
      ]
    },
    {
      "metadata": {
        "id": "_bgqqCvwypmS",
        "colab_type": "code",
        "colab": {
          "autoexec": {
            "startup": false,
            "wait_interval": 0
          },
          "base_uri": "https://localhost:8080/",
          "height": 224
        },
        "outputId": "9bf06228-1d48-4fda-fcb1-dd69c4d09d0d",
        "executionInfo": {
          "status": "ok",
          "timestamp": 1525548778408,
          "user_tz": -330,
          "elapsed": 1036,
          "user": {
            "displayName": "Naman Agarwal",
            "photoUrl": "https://lh3.googleusercontent.com/a/default-user=s128",
            "userId": "106899091211332196534"
          }
        }
      },
      "cell_type": "code",
      "source": [
        "categoricals = train.select_dtypes(exclude=[np.number])\n",
        "categoricals.describe()"
      ],
      "execution_count": 22,
      "outputs": [
        {
          "output_type": "execute_result",
          "data": {
            "text/html": [
              "<div>\n",
              "<style scoped>\n",
              "    .dataframe tbody tr th:only-of-type {\n",
              "        vertical-align: middle;\n",
              "    }\n",
              "\n",
              "    .dataframe tbody tr th {\n",
              "        vertical-align: top;\n",
              "    }\n",
              "\n",
              "    .dataframe thead th {\n",
              "        text-align: right;\n",
              "    }\n",
              "</style>\n",
              "<table border=\"1\" class=\"dataframe\">\n",
              "  <thead>\n",
              "    <tr style=\"text-align: right;\">\n",
              "      <th></th>\n",
              "      <th>MSZoning</th>\n",
              "      <th>Street</th>\n",
              "      <th>Alley</th>\n",
              "      <th>LotShape</th>\n",
              "      <th>LandContour</th>\n",
              "      <th>Utilities</th>\n",
              "      <th>LotConfig</th>\n",
              "      <th>LandSlope</th>\n",
              "      <th>Neighborhood</th>\n",
              "      <th>Condition1</th>\n",
              "      <th>...</th>\n",
              "      <th>GarageType</th>\n",
              "      <th>GarageFinish</th>\n",
              "      <th>GarageQual</th>\n",
              "      <th>GarageCond</th>\n",
              "      <th>PavedDrive</th>\n",
              "      <th>PoolQC</th>\n",
              "      <th>Fence</th>\n",
              "      <th>MiscFeature</th>\n",
              "      <th>SaleType</th>\n",
              "      <th>SaleCondition</th>\n",
              "    </tr>\n",
              "  </thead>\n",
              "  <tbody>\n",
              "    <tr>\n",
              "      <th>count</th>\n",
              "      <td>1455</td>\n",
              "      <td>1455</td>\n",
              "      <td>91</td>\n",
              "      <td>1455</td>\n",
              "      <td>1455</td>\n",
              "      <td>1455</td>\n",
              "      <td>1455</td>\n",
              "      <td>1455</td>\n",
              "      <td>1455</td>\n",
              "      <td>1455</td>\n",
              "      <td>...</td>\n",
              "      <td>1374</td>\n",
              "      <td>1374</td>\n",
              "      <td>1374</td>\n",
              "      <td>1374</td>\n",
              "      <td>1455</td>\n",
              "      <td>6</td>\n",
              "      <td>281</td>\n",
              "      <td>53</td>\n",
              "      <td>1455</td>\n",
              "      <td>1455</td>\n",
              "    </tr>\n",
              "    <tr>\n",
              "      <th>unique</th>\n",
              "      <td>5</td>\n",
              "      <td>2</td>\n",
              "      <td>2</td>\n",
              "      <td>4</td>\n",
              "      <td>4</td>\n",
              "      <td>2</td>\n",
              "      <td>5</td>\n",
              "      <td>3</td>\n",
              "      <td>25</td>\n",
              "      <td>9</td>\n",
              "      <td>...</td>\n",
              "      <td>6</td>\n",
              "      <td>3</td>\n",
              "      <td>5</td>\n",
              "      <td>5</td>\n",
              "      <td>3</td>\n",
              "      <td>3</td>\n",
              "      <td>4</td>\n",
              "      <td>4</td>\n",
              "      <td>9</td>\n",
              "      <td>6</td>\n",
              "    </tr>\n",
              "    <tr>\n",
              "      <th>top</th>\n",
              "      <td>RL</td>\n",
              "      <td>Pave</td>\n",
              "      <td>Grvl</td>\n",
              "      <td>Reg</td>\n",
              "      <td>Lvl</td>\n",
              "      <td>AllPub</td>\n",
              "      <td>Inside</td>\n",
              "      <td>Gtl</td>\n",
              "      <td>NAmes</td>\n",
              "      <td>Norm</td>\n",
              "      <td>...</td>\n",
              "      <td>Attchd</td>\n",
              "      <td>Unf</td>\n",
              "      <td>TA</td>\n",
              "      <td>TA</td>\n",
              "      <td>Y</td>\n",
              "      <td>Ex</td>\n",
              "      <td>MnPrv</td>\n",
              "      <td>Shed</td>\n",
              "      <td>WD</td>\n",
              "      <td>Normal</td>\n",
              "    </tr>\n",
              "    <tr>\n",
              "      <th>freq</th>\n",
              "      <td>1147</td>\n",
              "      <td>1450</td>\n",
              "      <td>50</td>\n",
              "      <td>921</td>\n",
              "      <td>1309</td>\n",
              "      <td>1454</td>\n",
              "      <td>1048</td>\n",
              "      <td>1378</td>\n",
              "      <td>225</td>\n",
              "      <td>1257</td>\n",
              "      <td>...</td>\n",
              "      <td>867</td>\n",
              "      <td>605</td>\n",
              "      <td>1306</td>\n",
              "      <td>1321</td>\n",
              "      <td>1335</td>\n",
              "      <td>2</td>\n",
              "      <td>157</td>\n",
              "      <td>48</td>\n",
              "      <td>1266</td>\n",
              "      <td>1196</td>\n",
              "    </tr>\n",
              "  </tbody>\n",
              "</table>\n",
              "<p>4 rows × 43 columns</p>\n",
              "</div>"
            ],
            "text/plain": [
              "       MSZoning Street Alley LotShape LandContour Utilities LotConfig  \\\n",
              "count      1455   1455    91     1455        1455      1455      1455   \n",
              "unique        5      2     2        4           4         2         5   \n",
              "top          RL   Pave  Grvl      Reg         Lvl    AllPub    Inside   \n",
              "freq       1147   1450    50      921        1309      1454      1048   \n",
              "\n",
              "       LandSlope Neighborhood Condition1      ...      GarageType  \\\n",
              "count       1455         1455       1455      ...            1374   \n",
              "unique         3           25          9      ...               6   \n",
              "top          Gtl        NAmes       Norm      ...          Attchd   \n",
              "freq        1378          225       1257      ...             867   \n",
              "\n",
              "       GarageFinish GarageQual GarageCond PavedDrive PoolQC  Fence  \\\n",
              "count          1374       1374       1374       1455      6    281   \n",
              "unique            3          5          5          3      3      4   \n",
              "top             Unf         TA         TA          Y     Ex  MnPrv   \n",
              "freq            605       1306       1321       1335      2    157   \n",
              "\n",
              "       MiscFeature SaleType SaleCondition  \n",
              "count           53     1455          1455  \n",
              "unique           4        9             6  \n",
              "top           Shed       WD        Normal  \n",
              "freq            48     1266          1196  \n",
              "\n",
              "[4 rows x 43 columns]"
            ]
          },
          "metadata": {
            "tags": []
          },
          "execution_count": 22
        }
      ]
    },
    {
      "metadata": {
        "id": "ZXFX74REyv0s",
        "colab_type": "code",
        "colab": {
          "autoexec": {
            "startup": false,
            "wait_interval": 0
          },
          "base_uri": "https://localhost:8080/",
          "height": 104
        },
        "outputId": "0e237f3d-752c-40fb-e3b5-148259e62dd5",
        "executionInfo": {
          "status": "ok",
          "timestamp": 1525548795426,
          "user_tz": -330,
          "elapsed": 912,
          "user": {
            "displayName": "Naman Agarwal",
            "photoUrl": "https://lh3.googleusercontent.com/a/default-user=s128",
            "userId": "106899091211332196534"
          }
        }
      },
      "cell_type": "code",
      "source": [
        "print (\"Original: \\n\") \n",
        "print (train.Street.value_counts(), \"\\n\")\n"
      ],
      "execution_count": 23,
      "outputs": [
        {
          "output_type": "stream",
          "text": [
            "Original: \n",
            "\n",
            "(Pave    1450\n",
            "Grvl       5\n",
            "Name: Street, dtype: int64, '\\n')\n"
          ],
          "name": "stdout"
        }
      ]
    },
    {
      "metadata": {
        "id": "SLQrCtfAy0A-",
        "colab_type": "code",
        "colab": {
          "autoexec": {
            "startup": false,
            "wait_interval": 0
          }
        }
      },
      "cell_type": "code",
      "source": [
        "train['enc_street'] = pd.get_dummies(train.Street, drop_first=True)\n",
        "test['enc_street'] = pd.get_dummies(train.Street, drop_first=True)"
      ],
      "execution_count": 0,
      "outputs": []
    },
    {
      "metadata": {
        "id": "oKKcEe9ly4Ee",
        "colab_type": "code",
        "colab": {
          "autoexec": {
            "startup": false,
            "wait_interval": 0
          },
          "base_uri": "https://localhost:8080/",
          "height": 104
        },
        "outputId": "0075c150-28f3-46d9-aa1d-4af5e95b9d21",
        "executionInfo": {
          "status": "ok",
          "timestamp": 1525548821574,
          "user_tz": -330,
          "elapsed": 974,
          "user": {
            "displayName": "Naman Agarwal",
            "photoUrl": "https://lh3.googleusercontent.com/a/default-user=s128",
            "userId": "106899091211332196534"
          }
        }
      },
      "cell_type": "code",
      "source": [
        "print ('Encoded: \\n') \n",
        "print (train.enc_street.value_counts())\n"
      ],
      "execution_count": 25,
      "outputs": [
        {
          "output_type": "stream",
          "text": [
            "Encoded: \n",
            "\n",
            "1    1450\n",
            "0       5\n",
            "Name: enc_street, dtype: int64\n"
          ],
          "name": "stdout"
        }
      ]
    },
    {
      "metadata": {
        "id": "RtIN0k9Oy6YU",
        "colab_type": "code",
        "colab": {
          "autoexec": {
            "startup": false,
            "wait_interval": 0
          },
          "base_uri": "https://localhost:8080/",
          "height": 390
        },
        "outputId": "e83cb9a4-7052-49a0-924b-0ac3c006d1be",
        "executionInfo": {
          "status": "ok",
          "timestamp": 1525548830526,
          "user_tz": -330,
          "elapsed": 892,
          "user": {
            "displayName": "Naman Agarwal",
            "photoUrl": "https://lh3.googleusercontent.com/a/default-user=s128",
            "userId": "106899091211332196534"
          }
        }
      },
      "cell_type": "code",
      "source": [
        "condition_pivot = train.pivot_table(index='SaleCondition',\n",
        "                                    values='SalePrice', aggfunc=np.median)\n",
        "condition_pivot.plot(kind='bar', color='blue')\n",
        "plt.xlabel('Sale Condition')\n",
        "plt.ylabel('Median Sale Price')\n",
        "plt.xticks(rotation=0)\n",
        "plt.show()"
      ],
      "execution_count": 26,
      "outputs": [
        {
          "output_type": "display_data",
          "data": {
            "image/png": "[encoded data removed]",
            "text/plain": [
              "<matplotlib.figure.Figure at 0x7fd09725e610>"
            ]
          },
          "metadata": {
            "tags": []
          }
        }
      ]
    },
    {
      "metadata": {
        "id": "vCtGZ2aBy8k6",
        "colab_type": "code",
        "colab": {
          "autoexec": {
            "startup": false,
            "wait_interval": 0
          }
        }
      },
      "cell_type": "code",
      "source": [
        "def encode(x): return 1 if x == 'Partial' else 0\n",
        "train['enc_condition'] = train.SaleCondition.apply(encode)\n",
        "test['enc_condition'] = test.SaleCondition.apply(encode)"
      ],
      "execution_count": 0,
      "outputs": []
    },
    {
      "metadata": {
        "id": "ZGHvZECxy_-m",
        "colab_type": "code",
        "colab": {
          "autoexec": {
            "startup": false,
            "wait_interval": 0
          },
          "base_uri": "https://localhost:8080/",
          "height": 390
        },
        "outputId": "c09630da-268f-49d5-de43-2f3c52203036",
        "executionInfo": {
          "status": "ok",
          "timestamp": 1525548854620,
          "user_tz": -330,
          "elapsed": 994,
          "user": {
            "displayName": "Naman Agarwal",
            "photoUrl": "https://lh3.googleusercontent.com/a/default-user=s128",
            "userId": "106899091211332196534"
          }
        }
      },
      "cell_type": "code",
      "source": [
        "condition_pivot = train.pivot_table(index='enc_condition', values='SalePrice', aggfunc=np.median)\n",
        "condition_pivot.plot(kind='bar', color='blue')\n",
        "plt.xlabel('Encoded Sale Condition')\n",
        "plt.ylabel('Median Sale Price')\n",
        "plt.xticks(rotation=0)\n",
        "plt.show()"
      ],
      "execution_count": 28,
      "outputs": [
        {
          "output_type": "display_data",
          "data": {
            "image/png": "[encoded data removed]",
            "text/plain": [
              "<matplotlib.figure.Figure at 0x7fd0972f3050>"
            ]
          },
          "metadata": {
            "tags": []
          }
        }
      ]
    },
    {
      "metadata": {
        "id": "Qwm76A7pzCb6",
        "colab_type": "code",
        "colab": {
          "autoexec": {
            "startup": false,
            "wait_interval": 0
          }
        }
      },
      "cell_type": "code",
      "source": [
        "data = train.select_dtypes(include=[np.number]).interpolate().dropna()"
      ],
      "execution_count": 0,
      "outputs": []
    },
    {
      "metadata": {
        "id": "oyvYGT2ZzEpi",
        "colab_type": "code",
        "colab": {
          "autoexec": {
            "startup": false,
            "wait_interval": 0
          },
          "base_uri": "https://localhost:8080/",
          "height": 34
        },
        "outputId": "207cd385-e209-4731-86e8-6f52687cd7c0",
        "executionInfo": {
          "status": "ok",
          "timestamp": 1525548874072,
          "user_tz": -330,
          "elapsed": 864,
          "user": {
            "displayName": "Naman Agarwal",
            "photoUrl": "https://lh3.googleusercontent.com/a/default-user=s128",
            "userId": "106899091211332196534"
          }
        }
      },
      "cell_type": "code",
      "source": [
        "sum(data.isnull().sum() != 0)"
      ],
      "execution_count": 30,
      "outputs": [
        {
          "output_type": "execute_result",
          "data": {
            "text/plain": [
              "0"
            ]
          },
          "metadata": {
            "tags": []
          },
          "execution_count": 30
        }
      ]
    },
    {
      "metadata": {
        "id": "yBFt2NZlzHNi",
        "colab_type": "code",
        "colab": {
          "autoexec": {
            "startup": false,
            "wait_interval": 0
          }
        }
      },
      "cell_type": "code",
      "source": [
        "y = np.log(train.SalePrice)\n",
        "X = data.drop(['SalePrice', 'Id'], axis=1)"
      ],
      "execution_count": 0,
      "outputs": []
    },
    {
      "metadata": {
        "id": "1DH84p-2zKzK",
        "colab_type": "code",
        "colab": {
          "autoexec": {
            "startup": false,
            "wait_interval": 0
          }
        }
      },
      "cell_type": "code",
      "source": [
        "from sklearn.model_selection import train_test_split\n",
        "X_train, X_test, y_train, y_test = train_test_split(\n",
        "                                    X, y, random_state=42, test_size=.33)\n"
      ],
      "execution_count": 0,
      "outputs": []
    },
    {
      "metadata": {
        "id": "APVR3vIWzN9a",
        "colab_type": "code",
        "colab": {
          "autoexec": {
            "startup": false,
            "wait_interval": 0
          }
        }
      },
      "cell_type": "code",
      "source": [
        "from sklearn import linear_model\n",
        "lr = linear_model.LinearRegression()\n"
      ],
      "execution_count": 0,
      "outputs": []
    },
    {
      "metadata": {
        "id": "cEY7cZnuzTbW",
        "colab_type": "code",
        "colab": {
          "autoexec": {
            "startup": false,
            "wait_interval": 0
          }
        }
      },
      "cell_type": "code",
      "source": [
        "model = lr.fit(X_train, y_train)"
      ],
      "execution_count": 0,
      "outputs": []
    },
    {
      "metadata": {
        "id": "Rfsx6GoQzVvM",
        "colab_type": "code",
        "colab": {
          "autoexec": {
            "startup": false,
            "wait_interval": 0
          },
          "base_uri": "https://localhost:8080/",
          "height": 34
        },
        "outputId": "4afd8dbd-5cea-4758-ebda-a85f92c40364",
        "executionInfo": {
          "status": "ok",
          "timestamp": 1525549675570,
          "user_tz": -330,
          "elapsed": 1426,
          "user": {
            "displayName": "Naman Agarwal",
            "photoUrl": "https://lh3.googleusercontent.com/a/default-user=s128",
            "userId": "106899091211332196534"
          }
        }
      },
      "cell_type": "code",
      "source": [
        "print (\"R^2 is: \\n\", model.score(X_test, y_test))"
      ],
      "execution_count": 70,
      "outputs": [
        {
          "output_type": "stream",
          "text": [
            "('R^2 is: \\n', 0.8882477709262494)\n"
          ],
          "name": "stdout"
        }
      ]
    },
    {
      "metadata": {
        "id": "vk1R_C44zYHs",
        "colab_type": "code",
        "colab": {
          "autoexec": {
            "startup": false,
            "wait_interval": 0
          }
        }
      },
      "cell_type": "code",
      "source": [
        "predictions = model.predict(X_test)"
      ],
      "execution_count": 0,
      "outputs": []
    },
    {
      "metadata": {
        "id": "JyJH80bFzau0",
        "colab_type": "code",
        "colab": {
          "autoexec": {
            "startup": false,
            "wait_interval": 0
          },
          "base_uri": "https://localhost:8080/",
          "height": 34
        },
        "outputId": "4c00dfc7-677e-47fe-9f90-b1f3ab31fb99",
        "executionInfo": {
          "status": "ok",
          "timestamp": 1525549682800,
          "user_tz": -330,
          "elapsed": 1132,
          "user": {
            "displayName": "Naman Agarwal",
            "photoUrl": "https://lh3.googleusercontent.com/a/default-user=s128",
            "userId": "106899091211332196534"
          }
        }
      },
      "cell_type": "code",
      "source": [
        "from sklearn.metrics import mean_squared_error\n",
        "print ('RMSE is: \\n', mean_squared_error(y_test, predictions))"
      ],
      "execution_count": 74,
      "outputs": [
        {
          "output_type": "stream",
          "text": [
            "('RMSE is: \\n', 0.017841794519568518)\n"
          ],
          "name": "stdout"
        }
      ]
    },
    {
      "metadata": {
        "id": "O1cqXQVXze58",
        "colab_type": "code",
        "colab": {
          "autoexec": {
            "startup": false,
            "wait_interval": 0
          },
          "base_uri": "https://localhost:8080/",
          "height": 407
        },
        "outputId": "cb65f51b-d493-495e-9b91-ac243d1d2fac",
        "executionInfo": {
          "status": "ok",
          "timestamp": 1525549692086,
          "user_tz": -330,
          "elapsed": 1180,
          "user": {
            "displayName": "Naman Agarwal",
            "photoUrl": "https://lh3.googleusercontent.com/a/default-user=s128",
            "userId": "106899091211332196534"
          }
        }
      },
      "cell_type": "code",
      "source": [
        "actual_values = y_test\n",
        "plt.scatter(predictions, actual_values, alpha=.75,\n",
        "            color='b') #alpha helps to show overlapping data\n",
        "plt.xlabel('Predicted Price')\n",
        "plt.ylabel('Actual Price')\n",
        "plt.title('Linear Regression Model')\n",
        "plt.show()"
      ],
      "execution_count": 78,
      "outputs": [
        {
          "output_type": "display_data",
          "data": {
            "image/png": "[encoded data removed]",
            "text/plain": [
              "<matplotlib.figure.Figure at 0x7fd092985b10>"
            ]
          },
          "metadata": {
            "tags": []
          }
        }
      ]
    },
    {
      "metadata": {
        "id": "ksCvkfJJzh6O",
        "colab_type": "code",
        "colab": {
          "autoexec": {
            "startup": false,
            "wait_interval": 0
          },
          "base_uri": "https://localhost:8080/",
          "height": 1967
        },
        "outputId": "3c9fb67b-f2ad-48a3-fde0-b385fa854aaa",
        "executionInfo": {
          "status": "ok",
          "timestamp": 1525549702538,
          "user_tz": -330,
          "elapsed": 2774,
          "user": {
            "displayName": "Naman Agarwal",
            "photoUrl": "https://lh3.googleusercontent.com/a/default-user=s128",
            "userId": "106899091211332196534"
          }
        }
      },
      "cell_type": "code",
      "source": [
        "for i in range (-2, 3):\n",
        "    alpha = 10**i\n",
        "    rm = linear_model.Ridge(alpha=alpha)\n",
        "    ridge_model = rm.fit(X_train, y_train)\n",
        "    preds_ridge = ridge_model.predict(X_test)\n",
        "\n",
        "    plt.scatter(preds_ridge, actual_values, alpha=.75, color='b')\n",
        "    plt.xlabel('Predicted Price')\n",
        "    plt.ylabel('Actual Price')\n",
        "    plt.title('Ridge Regularization with alpha = {}'.format(alpha))\n",
        "    overlay = 'R^2 is: {}\\nRMSE is: {}'.format(\n",
        "                    ridge_model.score(X_test, y_test),\n",
        "                    mean_squared_error(y_test, preds_ridge))\n",
        "    plt.annotate(s=overlay,xy=(12.1,10.6),size='x-large')\n",
        "    plt.show()"
      ],
      "execution_count": 82,
      "outputs": [
        {
          "output_type": "display_data",
          "data": {
            "image/png": "[encoded data removed]",
            "text/plain": [
              "<matplotlib.figure.Figure at 0x7fd092dd7c50>"
            ]
          },
          "metadata": {
            "tags": []
          }
        },
        {
          "output_type": "display_data",
          "data": {
            "image/png": "[encoded data removed]",
            "text/plain": [
              "<matplotlib.figure.Figure at 0x7fd092a375d0>"
            ]
          },
          "metadata": {
            "tags": []
          }
        },
        {
          "output_type": "display_data",
          "data": {
            "image/png": "[encoded data removed]",
            "text/plain": [
              "<matplotlib.figure.Figure at 0x7fd094238390>"
            ]
          },
          "metadata": {
            "tags": []
          }
        },
        {
          "output_type": "display_data",
          "data": {
            "image/png": "[encoded data removed]",
            "text/plain": [
              "<matplotlib.figure.Figure at 0x7fd0943fbc10>"
            ]
          },
          "metadata": {
            "tags": []
          }
        },
        {
          "output_type": "display_data",
          "data": {
            "image/png": "[encoded data removed]",
            "text/plain": [
              "<matplotlib.figure.Figure at 0x7fd0943ac990>"
            ]
          },
          "metadata": {
            "tags": []
          }
        }
      ]
    },
    {
      "metadata": {
        "id": "pmaPw3RxzmNO",
        "colab_type": "code",
        "colab": {
          "autoexec": {
            "startup": false,
            "wait_interval": 0
          }
        }
      },
      "cell_type": "code",
      "source": [
        "submission = pd.DataFrame()\n",
        "submission['Id'] = test.Id"
      ],
      "execution_count": 0,
      "outputs": []
    },
    {
      "metadata": {
        "id": "pICcSKCmzse0",
        "colab_type": "code",
        "colab": {
          "autoexec": {
            "startup": false,
            "wait_interval": 0
          }
        }
      },
      "cell_type": "code",
      "source": [
        "feats = test.select_dtypes(\n",
        "        include=[np.number]).drop(['Id'], axis=1).interpolate()\n"
      ],
      "execution_count": 0,
      "outputs": []
    },
    {
      "metadata": {
        "id": "f_Mb-m-Zzuve",
        "colab_type": "code",
        "colab": {
          "autoexec": {
            "startup": false,
            "wait_interval": 0
          }
        }
      },
      "cell_type": "code",
      "source": [
        "predictions = model.predict(feats)"
      ],
      "execution_count": 0,
      "outputs": []
    },
    {
      "metadata": {
        "id": "rQQxob5AzwxK",
        "colab_type": "code",
        "colab": {
          "autoexec": {
            "startup": false,
            "wait_interval": 0
          }
        }
      },
      "cell_type": "code",
      "source": [
        "final_predictions = np.exp(predictions)"
      ],
      "execution_count": 0,
      "outputs": []
    },
    {
      "metadata": {
        "id": "vJMynzuUzy64",
        "colab_type": "code",
        "colab": {
          "autoexec": {
            "startup": false,
            "wait_interval": 0
          },
          "base_uri": "https://localhost:8080/",
          "height": 69
        },
        "outputId": "6f2655ef-f5c8-4325-eef9-517c4c89e3a2",
        "executionInfo": {
          "status": "ok",
          "timestamp": 1525549709304,
          "user_tz": -330,
          "elapsed": 1020,
          "user": {
            "displayName": "Naman Agarwal",
            "photoUrl": "https://lh3.googleusercontent.com/a/default-user=s128",
            "userId": "106899091211332196534"
          }
        }
      },
      "cell_type": "code",
      "source": [
        "print (\"Original predictions are: \\n\", predictions[:5], \"\\n\")\n",
        "print (\"Final predictions are: \\n\", final_predictions[:5])"
      ],
      "execution_count": 87,
      "outputs": [
        {
          "output_type": "stream",
          "text": [
            "('Original predictions are: \\n', array([11.76725362, 11.71929504, 12.07656074, 12.20632678, 12.11217655]), '\\n')\n",
            "('Final predictions are: \\n', array([128959.49172586, 122920.74024355, 175704.82598101, 200050.83263755,\n",
            "       182075.46986405]))\n"
          ],
          "name": "stdout"
        }
      ]
    },
    {
      "metadata": {
        "id": "ViaJ0UdYz1WE",
        "colab_type": "code",
        "colab": {
          "autoexec": {
            "startup": false,
            "wait_interval": 0
          },
          "base_uri": "https://localhost:8080/",
          "height": 206
        },
        "outputId": "e2e5cf30-5a47-4bc1-e369-a9a9d1e33c24",
        "executionInfo": {
          "status": "ok",
          "timestamp": 1525549710644,
          "user_tz": -330,
          "elapsed": 1016,
          "user": {
            "displayName": "Naman Agarwal",
            "photoUrl": "https://lh3.googleusercontent.com/a/default-user=s128",
            "userId": "106899091211332196534"
          }
        }
      },
      "cell_type": "code",
      "source": [
        "submission['SalePrice'] = final_predictions\n",
        "submission.head()\n"
      ],
      "execution_count": 88,
      "outputs": [
        {
          "output_type": "execute_result",
          "data": {
            "text/html": [
              "<div>\n",
              "<style scoped>\n",
              "    .dataframe tbody tr th:only-of-type {\n",
              "        vertical-align: middle;\n",
              "    }\n",
              "\n",
              "    .dataframe tbody tr th {\n",
              "        vertical-align: top;\n",
              "    }\n",
              "\n",
              "    .dataframe thead th {\n",
              "        text-align: right;\n",
              "    }\n",
              "</style>\n",
              "<table border=\"1\" class=\"dataframe\">\n",
              "  <thead>\n",
              "    <tr style=\"text-align: right;\">\n",
              "      <th></th>\n",
              "      <th>Id</th>\n",
              "      <th>SalePrice</th>\n",
              "    </tr>\n",
              "  </thead>\n",
              "  <tbody>\n",
              "    <tr>\n",
              "      <th>0</th>\n",
              "      <td>1461</td>\n",
              "      <td>128959.491726</td>\n",
              "    </tr>\n",
              "    <tr>\n",
              "      <th>1</th>\n",
              "      <td>1462</td>\n",
              "      <td>122920.740244</td>\n",
              "    </tr>\n",
              "    <tr>\n",
              "      <th>2</th>\n",
              "      <td>1463</td>\n",
              "      <td>175704.825981</td>\n",
              "    </tr>\n",
              "    <tr>\n",
              "      <th>3</th>\n",
              "      <td>1464</td>\n",
              "      <td>200050.832638</td>\n",
              "    </tr>\n",
              "    <tr>\n",
              "      <th>4</th>\n",
              "      <td>1465</td>\n",
              "      <td>182075.469864</td>\n",
              "    </tr>\n",
              "  </tbody>\n",
              "</table>\n",
              "</div>"
            ],
            "text/plain": [
              "     Id      SalePrice\n",
              "0  1461  128959.491726\n",
              "1  1462  122920.740244\n",
              "2  1463  175704.825981\n",
              "3  1464  200050.832638\n",
              "4  1465  182075.469864"
            ]
          },
          "metadata": {
            "tags": []
          },
          "execution_count": 88
        }
      ]
    },
    {
      "metadata": {
        "id": "drxclmWRz61g",
        "colab_type": "code",
        "colab": {
          "autoexec": {
            "startup": false,
            "wait_interval": 0
          }
        }
      },
      "cell_type": "code",
      "source": [
        "submission.to_csv('submission1.csv', index=False)"
      ],
      "execution_count": 0,
      "outputs": []
    },
    {
      "metadata": {
        "id": "kNddh_cGz-SC",
        "colab_type": "code",
        "colab": {
          "autoexec": {
            "startup": false,
            "wait_interval": 0
          },
          "base_uri": "https://localhost:8080/",
          "height": 34
        },
        "outputId": "4380cd93-1e4b-47b6-bc66-dce8debb1395",
        "executionInfo": {
          "status": "ok",
          "timestamp": 1525549716310,
          "user_tz": -330,
          "elapsed": 2374,
          "user": {
            "displayName": "Naman Agarwal",
            "photoUrl": "https://lh3.googleusercontent.com/a/default-user=s128",
            "userId": "106899091211332196534"
          }
        }
      },
      "cell_type": "code",
      "source": [
        "!ls\n"
      ],
      "execution_count": 91,
      "outputs": [
        {
          "output_type": "stream",
          "text": [
            "datalab  submission1.csv  test.csv  train.csv\r\n"
          ],
          "name": "stdout"
        }
      ]
    },
    {
      "metadata": {
        "id": "ck7Kua-6z_7Q",
        "colab_type": "code",
        "colab": {
          "autoexec": {
            "startup": false,
            "wait_interval": 0
          }
        }
      },
      "cell_type": "code",
      "source": [
        "from google.colab import files\n",
        "files.download(\"submission1.csv\")"
      ],
      "execution_count": 0,
      "outputs": []
    },
    {
      "metadata": {
        "id": "sWznxb-G1P0G",
        "colab_type": "code",
        "colab": {
          "autoexec": {
            "startup": false,
            "wait_interval": 0
          },
          "base_uri": "https://localhost:8080/",
          "height": 25372
        },
        "outputId": "6fa7b763-d71f-43ca-90c2-491120c2f876",
        "executionInfo": {
          "status": "ok",
          "timestamp": 1525549722986,
          "user_tz": -330,
          "elapsed": 2228,
          "user": {
            "displayName": "Naman Agarwal",
            "photoUrl": "https://lh3.googleusercontent.com/a/default-user=s128",
            "userId": "106899091211332196534"
          }
        }
      },
      "cell_type": "code",
      "source": [
        "!cat submission1.csv\n"
      ],
      "execution_count": 92,
      "outputs": [
        {
          "output_type": "stream",
          "text": [
            "Id,SalePrice\r\n",
            "1461,128959.49172585653\r\n",
            "1462,122920.7402435516\r\n",
            "1463,175704.82598101388\r\n",
            "1464,200050.83263755272\r\n",
            "1465,182075.4698640549\r\n",
            "1466,172318.333975335\r\n",
            "1467,191064.62164199562\r\n",
            "1468,165488.55901671067\r\n",
            "1469,193158.99133191528\r\n",
            "1470,116214.02546461564\r\n",
            "1471,197517.34136405485\r\n",
            "1472,110496.86930550635\r\n",
            "1473,104627.95860388539\r\n",
            "1474,160048.6185949667\r\n",
            "1475,121950.25886407123\r\n",
            "1476,346510.34571537573\r\n",
            "1477,247172.1860445298\r\n",
            "1478,268659.64261242445\r\n",
            "1479,258557.80249897917\r\n",
            "1480,480282.1381843249\r\n",
            "1481,297738.1126855923\r\n",
            "1482,199447.03903568958\r\n",
            "1483,167917.0335373961\r\n",
            "1484,161980.8733117038\r\n",
            "1485,184049.47599013383\r\n",
            "1486,197557.61015411702\r\n",
            "1487,314256.17948245717\r\n",
            "1488,244381.74024740738\r\n",
            "1489,184648.63919223042\r\n",
            "1490,224171.38267121342\r\n",
            "1491,190714.89131708298\r\n",
            "1492,96982.00803374068\r\n",
            "1493,210802.3018774403\r\n",
            "1494,287432.00094884896\r\n",
            "1495,285191.5945385431\r\n",
            "1496,216516.0761240565\r\n",
            "1497,166723.89459543288\r\n",
            "1498,150726.29289540916\r\n",
            "1499,156209.5431940827\r\n",
            "1500,144994.9043056308\r\n",
            "1501,153092.73886561365\r\n",
            "1502,147212.16633151282\r\n",
            "1503,299097.6137791506\r\n",
            "1504,236840.31410659078\r\n",
            "1505,219194.3916499593\r\n",
            "1506,191403.85977973414\r\n",
            "1507,256890.3316273944\r\n",
            "1508,194506.05085758414\r\n",
            "1509,157827.2566915363\r\n",
            "1510,136401.36847710732\r\n",
            "1511,142441.6524551699\r\n",
            "1512,173597.81526881523\r\n",
            "1513,111990.19829000272\r\n",
            "1514,159520.61473327375\r\n",
            "1515,200709.88171709244\r\n",
            "1516,153270.5203611016\r\n",
            "1517,166744.52047699396\r\n",
            "1518,134265.77513054726\r\n",
            "1519,217613.480125506\r\n",
            "1520,122512.45217043179\r\n",
            "1521,122515.64286514437\r\n",
            "1522,178665.20415802515\r\n",
            "1523,99016.10938953086\r\n",
            "1524,113643.38044583678\r\n",
            "1525,118923.28259326731\r\n",
            "1526,105704.4330741231\r\n",
            "1527,99693.75709335029\r\n",
            "1528,150561.42329534405\r\n",
            "1529,138051.2521071547\r\n",
            "1530,218293.49297121886\r\n",
            "1531,109960.97631240381\r\n",
            "1532,107665.60135025845\r\n",
            "1533,150931.48275792575\r\n",
            "1534,127051.70663287194\r\n",
            "1535,156245.2986650007\r\n",
            "1536,112500.54669259363\r\n",
            "1537,72812.86583079853\r\n",
            "1538,170432.55489189326\r\n",
            "1539,183898.15849387032\r\n",
            "1540,94789.62951969044\r\n",
            "1541,141845.6051611942\r\n",
            "1542,141621.81167008748\r\n",
            "1543,185697.28371906365\r\n",
            "1544,92467.63962510075\r\n",
            "1545,123174.67038044475\r\n",
            "1546,135711.75936443475\r\n",
            "1547,139412.97580795758\r\n",
            "1548,138285.05681792885\r\n",
            "1549,120309.48961417077\r\n",
            "1550,126816.00983878506\r\n",
            "1551,123457.75111783257\r\n",
            "1552,135736.2351957146\r\n",
            "1553,140872.38177232663\r\n",
            "1554,123317.03025569802\r\n",
            "1555,160388.01251500493\r\n",
            "1556,90697.88542309124\r\n",
            "1557,97366.4349327279\r\n",
            "1558,101610.80237505621\r\n",
            "1559,78048.48869028548\r\n",
            "1560,127459.1722707953\r\n",
            "1561,117926.20895572082\r\n",
            "1562,130869.43147794792\r\n",
            "1563,113964.8289755473\r\n",
            "1564,165018.67307490946\r\n",
            "1565,150015.55373235402\r\n",
            "1566,252665.92883972186\r\n",
            "1567,80778.81841562438\r\n",
            "1568,210714.2459021209\r\n",
            "1569,115683.97212734354\r\n",
            "1570,142576.0556798325\r\n",
            "1571,118206.00874942672\r\n",
            "1572,143482.42505778233\r\n",
            "1573,254609.80316798695\r\n",
            "1574,114167.93922303514\r\n",
            "1575,228467.5481435837\r\n",
            "1576,258164.23664366454\r\n",
            "1577,180114.85645182893\r\n",
            "1578,132962.34356192133\r\n",
            "1579,136819.18587523774\r\n",
            "1580,201152.7544435934\r\n",
            "1581,155783.90651607196\r\n",
            "1582,125995.59714149327\r\n",
            "1583,333838.27598423854\r\n",
            "1584,227943.99115992122\r\n",
            "1585,139710.54854522352\r\n",
            "1586,80689.07880826906\r\n",
            "1587,105633.6593839689\r\n",
            "1588,146423.6721137341\r\n",
            "1589,104361.30402119146\r\n",
            "1590,141790.19183526404\r\n",
            "1591,87354.25750998536\r\n",
            "1592,118500.25818539562\r\n",
            "1593,127969.54141908391\r\n",
            "1594,123893.7413811733\r\n",
            "1595,93045.1206417867\r\n",
            "1596,209794.76445815046\r\n",
            "1597,164448.03996959812\r\n",
            "1598,189587.79605352925\r\n",
            "1599,184933.92953292033\r\n",
            "1600,175229.5107266456\r\n",
            "1601,69167.80114454732\r\n",
            "1602,115445.32541506737\r\n",
            "1603,91469.20966340862\r\n",
            "1604,246743.46998619166\r\n",
            "1605,259079.05654123\r\n",
            "1606,178260.73168125463\r\n",
            "1607,188518.5611155127\r\n",
            "1608,210686.5261235683\r\n",
            "1609,188784.03503518007\r\n",
            "1610,146716.42030333634\r\n",
            "1611,141275.377328454\r\n",
            "1612,164914.96252050536\r\n",
            "1613,172724.67866442795\r\n",
            "1614,132034.7228832984\r\n",
            "1615,99376.90070496287\r\n",
            "1616,82746.70845843738\r\n",
            "1617,103544.0053534604\r\n",
            "1618,126467.86400476555\r\n",
            "1619,147329.55073014554\r\n",
            "1620,166752.4310760629\r\n",
            "1621,139473.57789142\r\n",
            "1622,140353.98570793294\r\n",
            "1623,284515.88469865156\r\n",
            "1624,206746.5808466899\r\n",
            "1625,118573.1396023353\r\n",
            "1626,177071.863884672\r\n",
            "1627,192234.33885365806\r\n",
            "1628,280925.66868307407\r\n",
            "1629,176911.07187386762\r\n",
            "1630,339985.44663716486\r\n",
            "1631,196597.5965310592\r\n",
            "1632,216974.20221517218\r\n",
            "1633,175666.70502243403\r\n",
            "1634,185410.63908834526\r\n",
            "1635,176161.24745147972\r\n",
            "1636,156618.19908947052\r\n",
            "1637,190828.763225805\r\n",
            "1638,204436.98432991462\r\n",
            "1639,191765.92723289595\r\n",
            "1640,265907.8103173328\r\n",
            "1641,183496.3381898133\r\n",
            "1642,221090.79652223975\r\n",
            "1643,221588.12227398335\r\n",
            "1644,230460.62899994562\r\n",
            "1645,248616.0939715169\r\n",
            "1646,168603.71678661674\r\n",
            "1647,167379.75002720303\r\n",
            "1648,129013.38450455098\r\n",
            "1649,137520.99392371185\r\n",
            "1650,120706.94341422795\r\n",
            "1651,125922.9468038371\r\n",
            "1652,111747.1874270982\r\n",
            "1653,118198.37725106878\r\n",
            "1654,154049.51328263298\r\n",
            "1655,148000.61072712313\r\n",
            "1656,149448.90871569962\r\n",
            "1657,153411.6169918933\r\n",
            "1658,151240.30991606848\r\n",
            "1659,130859.38352655926\r\n",
            "1660,144715.99834155478\r\n",
            "1661,454734.36812527356\r\n",
            "1662,384422.388607716\r\n",
            "1663,344564.04986228666\r\n",
            "1664,548742.5191587555\r\n",
            "1665,282831.2655348936\r\n",
            "1666,321190.18050134607\r\n",
            "1667,342151.4610530323\r\n",
            "1668,320505.3042557537\r\n",
            "1669,281570.3147540147\r\n",
            "1670,322877.48469430604\r\n",
            "1671,251586.1568635468\r\n",
            "1672,429720.72124472784\r\n",
            "1673,289297.9943978153\r\n",
            "1674,243970.81122701804\r\n",
            "1675,182344.81271303946\r\n",
            "1676,185891.41481299483\r\n",
            "1677,205928.7892607389\r\n",
            "1678,475798.684114987\r\n",
            "1679,346368.1738663939\r\n",
            "1680,299966.85352557333\r\n",
            "1681,223550.80659893568\r\n",
            "1682,284102.6123445505\r\n",
            "1683,183103.30315055232\r\n",
            "1684,189346.66851797493\r\n",
            "1685,171726.14972838093\r\n",
            "1686,170052.33697501855\r\n",
            "1687,170891.9541982651\r\n",
            "1688,192663.66262033064\r\n",
            "1689,196092.20408082393\r\n",
            "1690,201054.2013595215\r\n",
            "1691,189603.76821970555\r\n",
            "1692,258445.70591869781\r\n",
            "1693,168410.5384269934\r\n",
            "1694,181886.9401695571\r\n",
            "1695,170911.3108554248\r\n",
            "1696,274073.44574972295\r\n",
            "1697,179608.70329193157\r\n",
            "1698,369107.8659631684\r\n",
            "1699,314495.8233254929\r\n",
            "1700,245006.07889061334\r\n",
            "1701,259272.72402294909\r\n",
            "1702,247991.54316341627\r\n",
            "1703,253081.5531120193\r\n",
            "1704,284986.97865006846\r\n",
            "1705,223756.04507992175\r\n",
            "1706,443471.7824217863\r\n",
            "1707,196249.32773367414\r\n",
            "1708,194299.60124528207\r\n",
            "1709,270841.2623454289\r\n",
            "1710,213657.78740372715\r\n",
            "1711,263729.80641522683\r\n",
            "1712,256435.42260744993\r\n",
            "1713,267631.3970727918\r\n",
            "1714,215038.6656426227\r\n",
            "1715,194308.78044459177\r\n",
            "1716,184350.12338847556\r\n",
            "1717,177129.57152703954\r\n",
            "1718,132444.57382064112\r\n",
            "1719,196704.00311616977\r\n",
            "1720,243519.46401825754\r\n",
            "1721,174333.44174109685\r\n",
            "1722,125216.11552881433\r\n",
            "1723,159487.3692378343\r\n",
            "1724,214499.11259586114\r\n",
            "1725,227819.66974405613\r\n",
            "1726,183906.09600500666\r\n",
            "1727,149576.98161871367\r\n",
            "1728,181150.64836148557\r\n",
            "1729,165999.9758467742\r\n",
            "1730,172370.8559174085\r\n",
            "1731,118689.09260394692\r\n",
            "1732,123905.27238480229\r\n",
            "1733,113892.58090110464\r\n",
            "1734,117668.31088685546\r\n",
            "1735,136771.9572729812\r\n",
            "1736,112360.34896073244\r\n",
            "1737,397065.58225920785\r\n",
            "1738,248846.31646280154\r\n",
            "1739,275596.5147323483\r\n",
            "1740,204040.35404086387\r\n",
            "1741,179787.3113731848\r\n",
            "1742,153279.95637519288\r\n",
            "1743,170704.95975853325\r\n",
            "1744,320243.10552298144\r\n",
            "1745,207684.25840628165\r\n",
            "1746,199568.96132603532\r\n",
            "1747,232902.69995384457\r\n",
            "1748,228827.8704230538\r\n",
            "1749,147854.02545773576\r\n",
            "1750,138247.15110211345\r\n",
            "1751,267204.29769713525\r\n",
            "1752,114261.17712409107\r\n",
            "1753,146403.06011316064\r\n",
            "1754,215685.5901618409\r\n",
            "1755,154256.82607527223\r\n",
            "1756,133768.7467546409\r\n",
            "1757,115143.74824449555\r\n",
            "1758,140074.8527807809\r\n",
            "1759,165021.82628163387\r\n",
            "1760,171575.6007473773\r\n",
            "1761,164354.00900919366\r\n",
            "1762,178484.7798763364\r\n",
            "1763,163554.5155765984\r\n",
            "1764,108018.51433596322\r\n",
            "1765,182220.6116982861\r\n",
            "1766,201554.73153376265\r\n",
            "1767,261183.5521392531\r\n",
            "1768,136428.69427833904\r\n",
            "1769,185558.25555605907\r\n",
            "1770,157527.6921323726\r\n",
            "1771,117904.07724462137\r\n",
            "1772,124808.9845662917\r\n",
            "1773,125322.43080375438\r\n",
            "1774,132970.99536706886\r\n",
            "1775,135475.84150254194\r\n",
            "1776,120263.09757561407\r\n",
            "1777,104393.88539124254\r\n",
            "1778,139437.30912367444\r\n",
            "1779,112680.34365513505\r\n",
            "1780,185828.53895387062\r\n",
            "1781,119365.89618650424\r\n",
            "1782,83371.40594481333\r\n",
            "1783,142452.93025476325\r\n",
            "1784,101831.38473232255\r\n",
            "1785,109694.91453524481\r\n",
            "1786,142595.61099921563\r\n",
            "1787,160413.27621709192\r\n",
            "1788,61916.67492029684\r\n",
            "1789,102166.42721890584\r\n",
            "1790,71139.20956653389\r\n",
            "1791,208794.56174232133\r\n",
            "1792,165651.43343217403\r\n",
            "1793,146154.98300832175\r\n",
            "1794,168184.97986567448\r\n",
            "1795,127678.08344983558\r\n",
            "1796,95399.76046798358\r\n",
            "1797,137498.20667465092\r\n",
            "1798,113384.02751254347\r\n",
            "1799,109580.63309791689\r\n",
            "1800,109256.3124961769\r\n",
            "1801,120245.99208707987\r\n",
            "1802,146952.75759461825\r\n",
            "1803,146083.92340441796\r\n",
            "1804,139301.2976009361\r\n",
            "1805,142571.3260795436\r\n",
            "1806,136082.12267620073\r\n",
            "1807,143650.5554162758\r\n",
            "1808,120403.40025935978\r\n",
            "1809,114856.87431477245\r\n",
            "1810,139621.21340997182\r\n",
            "1811,89367.46636613783\r\n",
            "1812,94160.46017423803\r\n",
            "1813,126511.33826214533\r\n",
            "1814,92466.98702660829\r\n",
            "1815,61495.67498617619\r\n",
            "1816,102043.72175138324\r\n",
            "1817,99681.57981520765\r\n",
            "1818,131893.5583123638\r\n",
            "1819,123542.28491112364\r\n",
            "1820,67736.27824854139\r\n",
            "1821,115763.07830942154\r\n",
            "1822,148406.8957761177\r\n",
            "1823,56807.15714567637\r\n",
            "1824,124019.36388146937\r\n",
            "1825,127918.01261810254\r\n",
            "1826,94618.50694009979\r\n",
            "1827,104945.83415378953\r\n",
            "1828,132625.2050526234\r\n",
            "1829,131958.4256529902\r\n",
            "1830,142879.54718808\r\n",
            "1831,157852.00864507054\r\n",
            "1832,90460.70545002926\r\n",
            "1833,139123.2329815123\r\n",
            "1834,125439.75100156608\r\n",
            "1835,124218.62475427415\r\n",
            "1836,125460.89549504254\r\n",
            "1837,94307.27442989305\r\n",
            "1838,132224.23602148576\r\n",
            "1839,104120.65954090374\r\n",
            "1840,142107.65772239136\r\n",
            "1841,131395.97982427635\r\n",
            "1842,89478.91181789547\r\n",
            "1843,138188.15019675498\r\n",
            "1844,129494.66696450667\r\n",
            "1845,134819.18651469453\r\n",
            "1846,144883.6187704512\r\n",
            "1847,141339.93230879883\r\n",
            "1848,54877.3927222337\r\n",
            "1849,107082.62234943686\r\n",
            "1850,112762.70209376753\r\n",
            "1851,144294.93957838824\r\n",
            "1852,123632.70448527523\r\n",
            "1853,124030.36604502852\r\n",
            "1854,170149.9839033352\r\n",
            "1855,149631.02553648042\r\n",
            "1856,229274.878646522\r\n",
            "1857,127486.41401033623\r\n",
            "1858,139271.79716338433\r\n",
            "1859,117101.88386583627\r\n",
            "1860,161006.3660990565\r\n",
            "1861,116626.40944242838\r\n",
            "1862,336671.8683931271\r\n",
            "1863,333895.0875905702\r\n",
            "1864,333971.08441874763\r\n",
            "1865,349453.0913618447\r\n",
            "1866,314841.7936475342\r\n",
            "1867,237652.44032419336\r\n",
            "1868,288854.1991160791\r\n",
            "1869,215064.41969971522\r\n",
            "1870,227022.17263092299\r\n",
            "1871,240889.83802608293\r\n",
            "1872,171186.84545581028\r\n",
            "1873,225342.21572171603\r\n",
            "1874,152653.0248014824\r\n",
            "1875,197635.20061846205\r\n",
            "1876,196215.8160262989\r\n",
            "1877,211453.66702682042\r\n",
            "1878,207483.198830387\r\n",
            "1879,118800.00268063715\r\n",
            "1880,140590.11877408126\r\n",
            "1881,256188.01066251885\r\n",
            "1882,244891.01127059106\r\n",
            "1883,182781.1275188693\r\n",
            "1884,197927.02296587158\r\n",
            "1885,237140.40739358298\r\n",
            "1886,273052.92597691633\r\n",
            "1887,221584.55264869973\r\n",
            "1888,298557.2255392414\r\n",
            "1889,167298.51914073245\r\n",
            "1890,120295.22927110794\r\n",
            "1891,139969.9132866732\r\n",
            "1892,97673.88884949638\r\n",
            "1893,125806.57357049885\r\n",
            "1894,120494.77460257159\r\n",
            "1895,134605.92379308326\r\n",
            "1896,124768.46388045132\r\n",
            "1897,119356.26826320525\r\n",
            "1898,119804.7310234395\r\n",
            "1899,146485.03960927288\r\n",
            "1900,143942.8649767062\r\n",
            "1901,154712.01532826942\r\n",
            "1902,128230.6977508662\r\n",
            "1903,209612.72808009267\r\n",
            "1904,131295.61219728543\r\n",
            "1905,182764.84481135735\r\n",
            "1906,161757.14057309763\r\n",
            "1907,187870.20624730721\r\n",
            "1908,132976.57184946717\r\n",
            "1909,151278.63481594465\r\n",
            "1910,140635.5681946947\r\n",
            "1911,190543.6961278462\r\n",
            "1912,330531.24455498374\r\n",
            "1913,141688.47682116093\r\n",
            "1914,80157.84028134384\r\n",
            "1915,261012.67532339037\r\n",
            "1916,60293.11193894453\r\n",
            "1917,258514.87877384477\r\n",
            "1918,146045.39416418917\r\n",
            "1919,197959.73442974646\r\n",
            "1920,165282.3779042791\r\n",
            "1921,371137.66248993564\r\n",
            "1922,287544.9095338694\r\n",
            "1923,220061.2088109706\r\n",
            "1924,226568.551693896\r\n",
            "1925,207535.82691756825\r\n",
            "1926,360581.0968976711\r\n",
            "1927,132378.86666516797\r\n",
            "1928,156554.2516783955\r\n",
            "1929,123183.29241090971\r\n",
            "1930,126513.84712039531\r\n",
            "1931,150040.0595483526\r\n",
            "1932,137159.89024504644\r\n",
            "1933,185756.13079120795\r\n",
            "1934,185266.64168313882\r\n",
            "1935,171868.61880347432\r\n",
            "1936,180007.88224841238\r\n",
            "1937,178618.61099499578\r\n",
            "1938,161347.42320816068\r\n",
            "1939,229116.72305744875\r\n",
            "1940,178333.47687148847\r\n",
            "1941,177525.5883272179\r\n",
            "1942,174053.0359056594\r\n",
            "1943,194035.4904226913\r\n",
            "1944,293166.62192570773\r\n",
            "1945,323293.80417621025\r\n",
            "1946,144583.52389002513\r\n",
            "1947,269032.2292873227\r\n",
            "1948,177744.975864999\r\n",
            "1949,241316.21641798154\r\n",
            "1950,199588.5096323723\r\n",
            "1951,264550.63550069695\r\n",
            "1952,223071.64613099446\r\n",
            "1953,169256.81783466734\r\n",
            "1954,199657.70756021707\r\n",
            "1955,135655.06311286218\r\n",
            "1956,382122.88188051415\r\n",
            "1957,159016.40220339294\r\n",
            "1958,314149.5586494032\r\n",
            "1959,141492.29453552788\r\n",
            "1960,105501.33116233278\r\n",
            "1961,121466.16394433926\r\n",
            "1962,110876.35973480991\r\n",
            "1963,123485.55651473586\r\n",
            "1964,113888.0189448245\r\n",
            "1965,152308.0390122418\r\n",
            "1966,146232.04317752586\r\n",
            "1967,281589.91335093917\r\n",
            "1968,397636.4946501539\r\n",
            "1969,330122.6986248457\r\n",
            "1970,404790.8199924352\r\n",
            "1971,479755.5659564437\r\n",
            "1972,364304.95530958305\r\n",
            "1973,262374.83440762886\r\n",
            "1974,302955.9639862101\r\n",
            "1975,533666.2394889459\r\n",
            "1976,270637.67121873994\r\n",
            "1977,333119.01521984744\r\n",
            "1978,323348.84202185\r\n",
            "1979,308551.6467393624\r\n",
            "1980,185365.82888783506\r\n",
            "1981,325597.6595361249\r\n",
            "1982,216260.0471675715\r\n",
            "1983,198608.70426424395\r\n",
            "1984,169702.90926842467\r\n",
            "1985,230587.62265371706\r\n",
            "1986,231559.20561813962\r\n",
            "1987,189771.1638022608\r\n",
            "1988,174969.6418434511\r\n",
            "1989,194696.48868144708\r\n",
            "1990,211815.43319066594\r\n",
            "1991,227773.2707451885\r\n",
            "1992,212946.54944701973\r\n",
            "1993,176082.60493046444\r\n",
            "1994,240405.3328131295\r\n",
            "1995,188323.18731328554\r\n",
            "1996,232975.5414764764\r\n",
            "1997,285525.13159541774\r\n",
            "1998,308082.7116306074\r\n",
            "1999,275079.5968861475\r\n",
            "2000,307010.934062136\r\n",
            "2001,263799.62838799047\r\n",
            "2002,245405.61172729905\r\n",
            "2003,256567.84962415314\r\n",
            "2004,290395.22362596955\r\n",
            "2005,221931.2375202966\r\n",
            "2006,214531.5828004411\r\n",
            "2007,243676.61902259814\r\n",
            "2008,203187.08425082467\r\n",
            "2009,186268.36075023643\r\n",
            "2010,191513.67493111436\r\n",
            "2011,137940.463185824\r\n",
            "2012,171804.1781316262\r\n",
            "2013,164804.6053962651\r\n",
            "2014,171747.3668448504\r\n",
            "2015,178512.5248525446\r\n",
            "2016,183715.19782329584\r\n",
            "2017,185453.95836306293\r\n",
            "2018,121536.710391296\r\n",
            "2019,146959.46626400342\r\n",
            "2020,108921.50091870813\r\n",
            "2021,104920.25594300886\r\n",
            "2022,185739.63756445283\r\n",
            "2023,144399.89140083903\r\n",
            "2024,260306.26297211365\r\n",
            "2025,347317.2002648929\r\n",
            "2026,164002.24609959286\r\n",
            "2027,148586.3040512049\r\n",
            "2028,158365.796116104\r\n",
            "2029,160578.50297874556\r\n",
            "2030,247193.06318767543\r\n",
            "2031,231396.28819075227\r\n",
            "2032,235939.38670363263\r\n",
            "2033,239725.99115911988\r\n",
            "2034,166053.5201126875\r\n",
            "2035,213656.58656634306\r\n",
            "2036,199840.56021063114\r\n",
            "2037,203984.83813986843\r\n",
            "2038,312634.15221654734\r\n",
            "2039,200781.64038363917\r\n",
            "2040,293050.6789576391\r\n",
            "2041,300904.1261946884\r\n",
            "2042,179209.99016817295\r\n",
            "2043,139377.7709121631\r\n",
            "2044,193878.6283187051\r\n",
            "2045,226521.7421417268\r\n",
            "2046,143828.05617702374\r\n",
            "2047,142210.06721197424\r\n",
            "2048,142747.77930499753\r\n",
            "2049,145546.02240174246\r\n",
            "2050,175615.45415460988\r\n",
            "2051,103208.082583085\r\n",
            "2052,125913.85682746823\r\n",
            "2053,141119.82468164724\r\n",
            "2054,90288.88029595537\r\n",
            "2055,146038.54608268195\r\n",
            "2056,142858.15148220386\r\n",
            "2057,109108.78790817058\r\n",
            "2058,207942.64972198187\r\n",
            "2059,129435.70407350494\r\n",
            "2060,183807.479313887\r\n",
            "2061,177866.47304348563\r\n",
            "2062,119073.6961172796\r\n",
            "2063,104290.12486183007\r\n",
            "2064,134886.7993334224\r\n",
            "2065,114473.55033960434\r\n",
            "2066,157165.15046411566\r\n",
            "2067,114013.7517124324\r\n",
            "2068,143553.02982605423\r\n",
            "2069,87127.23245112665\r\n",
            "2070,111904.32789608448\r\n",
            "2071,94086.06783843103\r\n",
            "2072,144932.44563177373\r\n",
            "2073,135420.4268757371\r\n",
            "2074,171745.96357448236\r\n",
            "2075,139688.85219518177\r\n",
            "2076,127849.09719659694\r\n",
            "2077,133571.61994034192\r\n",
            "2078,113666.71022991084\r\n",
            "2079,132221.854542896\r\n",
            "2080,121271.2631925058\r\n",
            "2081,120399.49812507433\r\n",
            "2082,125594.94336716302\r\n",
            "2083,136044.07539303394\r\n",
            "2084,106272.44498789585\r\n",
            "2085,111906.46802382515\r\n",
            "2086,136291.8663563863\r\n",
            "2087,130624.52556007888\r\n",
            "2088,102126.06863725767\r\n",
            "2089,82539.55409119629\r\n",
            "2090,134536.47898739707\r\n",
            "2091,92996.22186282054\r\n",
            "2092,127982.19063670025\r\n",
            "2093,120925.67206060502\r\n",
            "2094,115405.3205010319\r\n",
            "2095,155528.67508255693\r\n",
            "2096,88514.20296744395\r\n",
            "2097,96238.60131286309\r\n",
            "2098,144030.0508557857\r\n",
            "2099,67836.71326793409\r\n",
            "2100,74951.47060761295\r\n",
            "2101,110458.41846185575\r\n",
            "2102,134638.31759320755\r\n",
            "2103,97961.17848276556\r\n",
            "2104,134420.61198646322\r\n",
            "2105,120095.90708621537\r\n",
            "2106,64403.50685956033\r\n",
            "2107,182788.73242112616\r\n",
            "2108,115299.59997169072\r\n",
            "2109,109074.73759176116\r\n",
            "2110,124158.10869556546\r\n",
            "2111,152915.150835671\r\n",
            "2112,120896.07110209607\r\n",
            "2113,121776.27613110094\r\n",
            "2114,122750.83691174287\r\n",
            "2115,155153.23691293114\r\n",
            "2116,121023.70848377448\r\n",
            "2117,146456.6255132367\r\n",
            "2118,116947.84752132503\r\n",
            "2119,113856.233576908\r\n",
            "2120,123070.09896523823\r\n",
            "2121,96583.52276385568\r\n",
            "2122,95349.52545459576\r\n",
            "2123,96789.84366435205\r\n",
            "2124,164569.37694844886\r\n",
            "2125,125945.64761257751\r\n",
            "2126,127623.74672691977\r\n",
            "2127,159620.4993988409\r\n",
            "2128,124407.07393185084\r\n",
            "2129,108165.72540710731\r\n",
            "2130,134793.56328503374\r\n",
            "2131,160240.19938416756\r\n",
            "2132,116367.93205094947\r\n",
            "2133,120274.79906894403\r\n",
            "2134,121818.5116634716\r\n",
            "2135,107417.75551087076\r\n",
            "2136,66668.45543955415\r\n",
            "2137,116330.51860371747\r\n",
            "2138,133108.51782770918\r\n",
            "2139,151161.66956643114\r\n",
            "2140,139763.55719838658\r\n",
            "2141,158170.75767525358\r\n",
            "2142,113166.98816172783\r\n",
            "2143,137768.84478441376\r\n",
            "2144,112875.76054047167\r\n",
            "2145,143519.84099940458\r\n",
            "2146,177627.14622858743\r\n",
            "2147,143864.31805089742\r\n",
            "2148,139925.03429233748\r\n",
            "2149,152921.17151778546\r\n",
            "2150,226075.11912734213\r\n",
            "2151,119396.63731984426\r\n",
            "2152,157684.0787245947\r\n",
            "2153,183560.88017210143\r\n",
            "2154,105391.18498687778\r\n",
            "2155,147683.56068863478\r\n",
            "2156,264529.05769446515\r\n",
            "2157,241703.40341263573\r\n",
            "2158,221319.61969811574\r\n",
            "2159,203864.2965382026\r\n",
            "2160,192420.5334020842\r\n",
            "2161,251348.11312663194\r\n",
            "2162,487729.8875381499\r\n",
            "2163,371194.51509756513\r\n",
            "2164,238497.2425988745\r\n",
            "2165,185422.45899465482\r\n",
            "2166,156672.83195179718\r\n",
            "2167,212302.771672777\r\n",
            "2168,184652.45268927986\r\n",
            "2169,185337.7190130272\r\n",
            "2170,194502.0798270742\r\n",
            "2171,152972.82978888738\r\n",
            "2172,142372.79590457675\r\n",
            "2173,177348.1489460264\r\n",
            "2174,226176.77448028684\r\n",
            "2175,303768.654835151\r\n",
            "2176,288916.68462265586\r\n",
            "2177,237608.47769003024\r\n",
            "2178,215812.0840957047\r\n",
            "2179,138115.2212049118\r\n",
            "2180,233460.81718215853\r\n",
            "2181,183848.69829393906\r\n",
            "2182,222201.2190260282\r\n",
            "2183,185461.64491166163\r\n",
            "2184,128044.78333442936\r\n",
            "2185,118716.70436319477\r\n",
            "2186,168030.70443826524\r\n",
            "2187,160747.7526611937\r\n",
            "2188,168099.01659035854\r\n",
            "2189,278633.3827543771\r\n",
            "2190,78983.2332266526\r\n",
            "2191,79007.46231930023\r\n",
            "2192,84640.03682056029\r\n",
            "2193,106620.01871280196\r\n",
            "2194,111590.06245711513\r\n",
            "2195,95498.24106473838\r\n",
            "2196,97761.47102917549\r\n",
            "2197,116687.5883773082\r\n",
            "2198,160364.50758980287\r\n",
            "2199,200881.70184165254\r\n",
            "2200,129261.57016765852\r\n",
            "2201,120760.78892493981\r\n",
            "2202,190614.43744532167\r\n",
            "2203,112272.70184786426\r\n",
            "2204,146880.60795467577\r\n",
            "2205,102913.34652289381\r\n",
            "2206,132217.04621981928\r\n",
            "2207,205709.52617842137\r\n",
            "2208,253249.83035397387\r\n",
            "2209,205025.64404905707\r\n",
            "2210,135929.46361571457\r\n",
            "2211,129489.15834306538\r\n",
            "2212,126978.41235461128\r\n",
            "2213,102572.20251544316\r\n",
            "2214,133318.88221270285\r\n",
            "2215,105006.22868588871\r\n",
            "2216,137688.67045875726\r\n",
            "2217,69389.73525920608\r\n",
            "2218,85521.36410723368\r\n",
            "2219,90615.02801452045\r\n",
            "2220,87555.68146492855\r\n",
            "2221,262943.4917097906\r\n",
            "2222,229677.1549507906\r\n",
            "2223,266823.47138106223\r\n",
            "2224,225160.85848423844\r\n",
            "2225,126039.28271901733\r\n",
            "2226,184073.4797210632\r\n",
            "2227,202281.70747969812\r\n",
            "2228,256445.75446013716\r\n",
            "2229,252836.703739425\r\n",
            "2230,142895.80399250484\r\n",
            "2231,205602.39739517125\r\n",
            "2232,189663.46832511795\r\n",
            "2233,181328.11494965444\r\n",
            "2234,236353.42634497158\r\n",
            "2235,201373.3102099602\r\n",
            "2236,261417.9468550181\r\n",
            "2237,315720.0201297131\r\n",
            "2238,216747.14830490146\r\n",
            "2239,121247.88634891596\r\n",
            "2240,151948.09825147843\r\n",
            "2241,143561.69629739528\r\n",
            "2242,130479.0517122611\r\n",
            "2243,137501.93587147427\r\n",
            "2244,111981.52904525085\r\n",
            "2245,106508.85146435158\r\n",
            "2246,134196.3986022523\r\n",
            "2247,141698.28307225145\r\n",
            "2248,125487.31416642272\r\n",
            "2249,125693.46325924953\r\n",
            "2250,135621.9926763983\r\n",
            "2251,94354.28161490062\r\n",
            "2252,189353.21968911123\r\n",
            "2253,156460.4767117693\r\n",
            "2254,170094.16807581318\r\n",
            "2255,201653.28177403536\r\n",
            "2256,173350.9718181956\r\n",
            "2257,207612.87312956687\r\n",
            "2258,161477.09443237123\r\n",
            "2259,175346.64317303497\r\n",
            "2260,166984.86061852265\r\n",
            "2261,176059.61155195793\r\n",
            "2262,195285.429943795\r\n",
            "2263,333639.8938439944\r\n",
            "2264,544473.3229588469\r\n",
            "2265,172737.09931593243\r\n",
            "2266,250859.58497426182\r\n",
            "2267,335665.4363000607\r\n",
            "2268,404939.3300484743\r\n",
            "2269,161860.35603227423\r\n",
            "2270,197217.15102069546\r\n",
            "2271,233910.4100523194\r\n",
            "2272,208658.86015227452\r\n",
            "2273,131100.14396715362\r\n",
            "2274,175963.55804858133\r\n",
            "2275,182907.71064927796\r\n",
            "2276,188799.11755473868\r\n",
            "2277,201394.76808027917\r\n",
            "2278,154962.41822637743\r\n",
            "2279,117449.75764408114\r\n",
            "2280,110513.2588947772\r\n",
            "2281,164227.72469972726\r\n",
            "2282,179686.74336469744\r\n",
            "2283,122010.23331837753\r\n",
            "2284,117471.55443646219\r\n",
            "2285,151873.0880232296\r\n",
            "2286,122912.83499254331\r\n",
            "2287,332848.5757665918\r\n",
            "2288,266721.64660406474\r\n",
            "2289,372456.08070618805\r\n",
            "2290,436423.3222457486\r\n",
            "2291,317162.169576427\r\n",
            "2292,434904.3821067067\r\n",
            "2293,480693.31122425734\r\n",
            "2294,353249.5274586988\r\n",
            "2295,489664.33636420034\r\n",
            "2296,276319.0901039486\r\n",
            "2297,314371.4787545415\r\n",
            "2298,290366.7238487804\r\n",
            "2299,349420.6576407782\r\n",
            "2300,305819.6041142888\r\n",
            "2301,281944.9187005259\r\n",
            "2302,246244.01070912014\r\n",
            "2303,233286.43791975448\r\n",
            "2304,256711.10207682292\r\n",
            "2305,195936.9545808825\r\n",
            "2306,187399.5632657635\r\n",
            "2307,185881.49536171884\r\n",
            "2308,215895.30885884815\r\n",
            "2309,253882.35357085994\r\n",
            "2310,209040.73629272525\r\n",
            "2311,203508.93153580715\r\n",
            "2312,184421.53888049003\r\n",
            "2313,172627.5260677187\r\n",
            "2314,180588.37687686415\r\n",
            "2315,186243.57527139134\r\n",
            "2316,196819.88745536678\r\n",
            "2317,176414.20206009457\r\n",
            "2318,173816.29371496322\r\n",
            "2319,188099.25928961587\r\n",
            "2320,195710.15666508308\r\n",
            "2321,247294.25535828708\r\n",
            "2322,195060.13749757485\r\n",
            "2323,174382.87938544594\r\n",
            "2324,185913.51558586306\r\n",
            "2325,222423.63120162775\r\n",
            "2326,175332.59699755014\r\n",
            "2327,204914.34545890643\r\n",
            "2328,221439.74141705834\r\n",
            "2329,190913.76300095825\r\n",
            "2330,186394.93844933255\r\n",
            "2331,352825.84270588326\r\n",
            "2332,369440.1582870737\r\n",
            "2333,330198.0446914452\r\n",
            "2334,239820.08222150343\r\n",
            "2335,259526.78329218243\r\n",
            "2336,313071.8508643781\r\n",
            "2337,201003.42926259807\r\n",
            "2338,287790.311514389\r\n",
            "2339,223642.84333554364\r\n",
            "2340,401617.33294938644\r\n",
            "2341,224169.24761428998\r\n",
            "2342,228120.85566095947\r\n",
            "2343,229121.68916940974\r\n",
            "2344,215602.33706284506\r\n",
            "2345,239973.68796657908\r\n",
            "2346,208450.76415323222\r\n",
            "2347,191187.55582634016\r\n",
            "2348,237934.68684708697\r\n",
            "2349,172951.75549650512\r\n",
            "2350,293593.0907915551\r\n",
            "2351,235834.16876628384\r\n",
            "2352,238855.43142254383\r\n",
            "2353,241654.1052733833\r\n",
            "2354,141986.07979461178\r\n",
            "2355,143768.38685408147\r\n",
            "2356,153989.52929057213\r\n",
            "2357,191994.22804919744\r\n",
            "2358,180582.04993990276\r\n",
            "2359,138909.16315573335\r\n",
            "2360,117970.55333379081\r\n",
            "2361,151659.75663178464\r\n",
            "2362,265162.3738102876\r\n",
            "2363,131991.8747840292\r\n",
            "2364,185151.39482987192\r\n",
            "2365,219775.51324522402\r\n",
            "2366,188659.08201336575\r\n",
            "2367,210245.6987495053\r\n",
            "2368,204703.40303626886\r\n",
            "2369,211614.6256550587\r\n",
            "2370,167185.16538792825\r\n",
            "2371,150723.15309574504\r\n",
            "2372,176550.31385555104\r\n",
            "2373,291016.57164172345\r\n",
            "2374,339895.0813636177\r\n",
            "2375,234958.93917084657\r\n",
            "2376,297525.81335204444\r\n",
            "2377,365433.8412329335\r\n",
            "2378,144163.6251922352\r\n",
            "2379,214125.78197095913\r\n",
            "2380,149963.32688424652\r\n",
            "2381,167120.90937951242\r\n",
            "2382,230486.9748815204\r\n",
            "2383,207433.32333030738\r\n",
            "2384,247153.41237060845\r\n",
            "2385,171856.659185465\r\n",
            "2386,129218.30850241659\r\n",
            "2387,127751.56082091446\r\n",
            "2388,104976.78852845772\r\n",
            "2389,122674.5507589768\r\n",
            "2390,133826.79447185222\r\n",
            "2391,145559.77238852\r\n",
            "2392,114015.8852616875\r\n",
            "2393,167582.32643038957\r\n",
            "2394,132156.02452489486\r\n",
            "2395,214194.13680163253\r\n",
            "2396,141562.36210602048\r\n",
            "2397,229834.78335597654\r\n",
            "2398,129466.23394927927\r\n",
            "2399,64081.900926064794\r\n",
            "2400,67036.76042016323\r\n",
            "2401,126534.85612369604\r\n",
            "2402,128829.0096835005\r\n",
            "2403,147559.12449732656\r\n",
            "2404,138952.68391454557\r\n",
            "2405,155806.29380133157\r\n",
            "2406,145257.94931782555\r\n",
            "2407,121815.6016698785\r\n",
            "2408,148015.57302505118\r\n",
            "2409,118907.95608295349\r\n",
            "2410,194876.3654712384\r\n",
            "2411,110014.70080085553\r\n",
            "2412,147134.3346452238\r\n",
            "2413,116659.92482310759\r\n",
            "2414,148706.1294004636\r\n",
            "2415,129196.34914723583\r\n",
            "2416,126059.68138108024\r\n",
            "2417,131660.74358033348\r\n",
            "2418,134535.52641486702\r\n",
            "2419,107680.30190519901\r\n",
            "2420,125162.2847858958\r\n",
            "2421,145947.33378649064\r\n",
            "2422,105817.56159181889\r\n",
            "2423,101903.40079866954\r\n",
            "2424,153387.72399147836\r\n",
            "2425,216506.74382313047\r\n",
            "2426,135887.30148222795\r\n",
            "2427,111721.43714914811\r\n",
            "2428,178057.28061457677\r\n",
            "2429,113392.13325980808\r\n",
            "2430,133797.55654959756\r\n",
            "2431,106874.64483899961\r\n",
            "2432,134475.9334111853\r\n",
            "2433,139398.1182354166\r\n",
            "2434,129241.46279920444\r\n",
            "2435,149799.7406071542\r\n",
            "2436,102689.04559866467\r\n",
            "2437,106126.41334540037\r\n",
            "2438,120484.54466754376\r\n",
            "2439,115730.91637527174\r\n",
            "2440,126712.3772772869\r\n",
            "2441,103637.38723931125\r\n",
            "2442,104947.87375066109\r\n",
            "2443,131634.49652638362\r\n",
            "2444,125976.9277054389\r\n",
            "2445,88077.2705922606\r\n",
            "2446,127089.08787286538\r\n",
            "2447,195201.99934675792\r\n",
            "2448,138688.33124420623\r\n",
            "2449,113956.12010708451\r\n",
            "2450,146633.57756388572\r\n",
            "2451,133118.21156649882\r\n",
            "2452,184710.33342187703\r\n",
            "2453,92095.63979555845\r\n",
            "2454,117972.20841323065\r\n",
            "2455,127761.96974761634\r\n",
            "2456,127454.27027810147\r\n",
            "2457,127599.05059503825\r\n",
            "2458,128037.37766725346\r\n",
            "2459,106712.37207598238\r\n",
            "2460,138717.92570639926\r\n",
            "2461,122803.16977711552\r\n",
            "2462,130063.32149111116\r\n",
            "2463,114583.45513561623\r\n",
            "2464,169693.11689765565\r\n",
            "2465,131026.95690740283\r\n",
            "2466,106888.84250554074\r\n",
            "2467,150427.35796961994\r\n",
            "2468,87422.73323635352\r\n",
            "2469,83619.85608235076\r\n",
            "2470,194418.19039951186\r\n",
            "2471,250151.14999254083\r\n",
            "2472,160045.03768256048\r\n",
            "2473,116782.58192375497\r\n",
            "2474,76693.40710487083\r\n",
            "2475,238830.62048830965\r\n",
            "2476,105892.66841224924\r\n",
            "2477,111819.74287718606\r\n",
            "2478,158227.8353207722\r\n",
            "2479,103497.68532170085\r\n",
            "2480,153031.56124406133\r\n",
            "2481,113343.4601118646\r\n",
            "2482,128573.79358708917\r\n",
            "2483,108195.285035174\r\n",
            "2484,122698.16426483296\r\n",
            "2485,129329.11314990984\r\n",
            "2486,140945.33623073364\r\n",
            "2487,159893.82994095\r\n",
            "2488,174342.56727761982\r\n",
            "2489,159087.9567601304\r\n",
            "2490,148345.86127208857\r\n",
            "2491,101092.5184394887\r\n",
            "2492,191394.7070881841\r\n",
            "2493,144295.53612400882\r\n",
            "2494,150802.09443736676\r\n",
            "2495,93794.01842820224\r\n",
            "2496,234018.13592296295\r\n",
            "2497,147994.3584021827\r\n",
            "2498,106175.38227712586\r\n",
            "2499,91569.96069300098\r\n",
            "2500,126674.10003350869\r\n",
            "2501,130371.39572987033\r\n",
            "2502,150001.4426495707\r\n",
            "2503,96498.41208094219\r\n",
            "2504,233627.82627293502\r\n",
            "2505,214839.811000003\r\n",
            "2506,268460.4461896647\r\n",
            "2507,311420.08402178384\r\n",
            "2508,268727.00476228\r\n",
            "2509,214381.98108898985\r\n",
            "2510,227306.37461198005\r\n",
            "2511,176688.58840808805\r\n",
            "2512,196496.46135700037\r\n",
            "2513,225279.12522392566\r\n",
            "2514,247078.77834540783\r\n",
            "2515,143131.70437948738\r\n",
            "2516,173678.55590998614\r\n",
            "2517,145938.94906215015\r\n",
            "2518,144912.34434695868\r\n",
            "2519,215090.7804672864\r\n",
            "2520,210186.93370028734\r\n",
            "2521,185174.17126015126\r\n",
            "2522,222407.83760970202\r\n",
            "2523,121004.76496028152\r\n",
            "2524,133281.81688888703\r\n",
            "2525,154386.05786992924\r\n",
            "2526,136469.71144599246\r\n",
            "2527,111635.2329167195\r\n",
            "2528,125360.49245608221\r\n",
            "2529,129095.23164063915\r\n",
            "2530,133366.84243724073\r\n",
            "2531,258154.72093375574\r\n",
            "2532,226177.9895300246\r\n",
            "2533,193507.44613792282\r\n",
            "2534,226067.329546677\r\n",
            "2535,295931.61047602736\r\n",
            "2536,242962.38885919077\r\n",
            "2537,225550.50045165038\r\n",
            "2538,192133.53692528806\r\n",
            "2539,186972.16479903864\r\n",
            "2540,184207.0853112679\r\n",
            "2541,190112.50415991215\r\n",
            "2542,150270.90685291353\r\n",
            "2543,124192.82492131145\r\n",
            "2544,117663.2097619404\r\n",
            "2545,133431.2242503897\r\n",
            "2546,137885.487488641\r\n",
            "2547,159058.8366457874\r\n",
            "2548,157625.18334328916\r\n",
            "2549,158227.19864115186\r\n",
            "2550,1198349.971030203\r\n",
            "2551,139234.43529081935\r\n",
            "2552,131457.8359049646\r\n",
            "2553,71605.9658374411\r\n",
            "2554,104302.0496954985\r\n",
            "2555,126668.61633856845\r\n",
            "2556,102038.98168274072\r\n",
            "2557,107209.86454958566\r\n",
            "2558,137804.5688689664\r\n",
            "2559,110979.74386025856\r\n",
            "2560,141208.6811092897\r\n",
            "2561,140833.4191905044\r\n",
            "2562,122170.4977307132\r\n",
            "2563,139841.8372211664\r\n",
            "2564,185172.18929102685\r\n",
            "2565,128908.50641265666\r\n",
            "2566,124886.67001304102\r\n",
            "2567,114641.60560076823\r\n",
            "2568,210862.5822356188\r\n",
            "2569,203245.45390214163\r\n",
            "2570,135675.83883448687\r\n",
            "2571,163098.50289098843\r\n",
            "2572,163379.2759518338\r\n",
            "2573,208316.13400473716\r\n",
            "2574,260159.68662093743\r\n",
            "2575,136387.0462480556\r\n",
            "2576,120570.28717556015\r\n",
            "2577,129103.76031992096\r\n",
            "2578,96765.56501814394\r\n",
            "2579,64009.5756995721\r\n",
            "2580,105560.05426241383\r\n",
            "2581,126672.73426190898\r\n",
            "2582,133730.62610973557\r\n",
            "2583,265593.81865534495\r\n",
            "2584,181407.7685938786\r\n",
            "2585,183389.09412010422\r\n",
            "2586,225287.54499987105\r\n",
            "2587,212946.6387019388\r\n",
            "2588,142323.27008528722\r\n",
            "2589,157694.80929176285\r\n",
            "2590,215346.25637921205\r\n",
            "2591,215155.48988067821\r\n",
            "2592,215660.4787163838\r\n",
            "2593,229957.15705552688\r\n",
            "2594,186277.59735482268\r\n",
            "2595,192859.5474966963\r\n",
            "2596,290405.7357647194\r\n",
            "2597,180495.42636150317\r\n",
            "2598,274659.0509117056\r\n",
            "2599,352114.92901017575\r\n",
            "2600,159569.08947853395\r\n",
            "2601,140314.20202622682\r\n",
            "2602,92100.43902461503\r\n",
            "2603,94762.37980262577\r\n",
            "2604,93890.72211571402\r\n",
            "2605,89465.68437347702\r\n",
            "2606,139962.22160652344\r\n",
            "2607,215023.41138038354\r\n",
            "2608,221331.19830081618\r\n",
            "2609,174539.00631168057\r\n",
            "2610,110258.59182003743\r\n",
            "2611,120901.83980535173\r\n",
            "2612,163507.2986805849\r\n",
            "2613,132710.33342393243\r\n",
            "2614,122432.89812787001\r\n",
            "2615,147915.92208126007\r\n",
            "2616,157837.20388994247\r\n",
            "2617,188489.65553378197\r\n",
            "2618,191553.15016418797\r\n",
            "2619,206793.7737373922\r\n",
            "2620,186119.83761181825\r\n",
            "2621,173784.04658485774\r\n",
            "2622,182044.74770170238\r\n",
            "2623,233370.30975954732\r\n",
            "2624,310888.83495036815\r\n",
            "2625,275611.72330633877\r\n",
            "2626,179515.38336447268\r\n",
            "2627,163888.65745979434\r\n",
            "2628,427588.78134850797\r\n",
            "2629,456994.1401457991\r\n",
            "2630,344680.75278269587\r\n",
            "2631,467408.49217506207\r\n",
            "2632,371795.1600547489\r\n",
            "2633,274357.76225652517\r\n",
            "2634,391109.0455911877\r\n",
            "2635,163644.85209440946\r\n",
            "2636,194075.02732129072\r\n",
            "2637,173722.58648577906\r\n",
            "2638,262655.545457858\r\n",
            "2639,189382.40272960058\r\n",
            "2640,156973.3900440525\r\n",
            "2641,102981.29503389883\r\n",
            "2642,178643.17619040245\r\n",
            "2643,118570.5127215321\r\n",
            "2644,138961.86702196806\r\n",
            "2645,98042.5297194961\r\n",
            "2646,108801.85075229243\r\n",
            "2647,118218.56966871492\r\n",
            "2648,149603.04486051062\r\n",
            "2649,153495.31680931468\r\n",
            "2650,150488.85095279216\r\n",
            "2651,146296.76839474172\r\n",
            "2652,427434.8260235936\r\n",
            "2653,247037.78504244366\r\n",
            "2654,243571.11468350614\r\n",
            "2655,373633.9664899366\r\n",
            "2656,310014.5159832146\r\n",
            "2657,332152.0145127385\r\n",
            "2658,274482.6607693748\r\n",
            "2659,299778.3575789384\r\n",
            "2660,347434.1657677001\r\n",
            "2661,341505.7388657483\r\n",
            "2662,319351.053663765\r\n",
            "2663,295772.4371087188\r\n",
            "2664,245255.8949753233\r\n",
            "2665,322141.4774593025\r\n",
            "2666,266860.7804090236\r\n",
            "2667,185588.86246075216\r\n",
            "2668,193041.79555118844\r\n",
            "2669,178322.79747724318\r\n",
            "2670,288017.09864403616\r\n",
            "2671,194333.02377492262\r\n",
            "2672,202480.36428803005\r\n",
            "2673,200995.6367016601\r\n",
            "2674,211896.45566148555\r\n",
            "2675,173368.02109843362\r\n",
            "2676,193458.39346493952\r\n",
            "2677,206585.42535414622\r\n",
            "2678,262079.11723949632\r\n",
            "2679,272384.6029377424\r\n",
            "2680,272443.41553439246\r\n",
            "2681,376835.40986300324\r\n",
            "2682,315312.935718405\r\n",
            "2683,536373.6557857624\r\n",
            "2684,297552.25459573156\r\n",
            "2685,321910.61845821294\r\n",
            "2686,265939.42759539944\r\n",
            "2687,326820.47374961217\r\n",
            "2688,225407.26221560742\r\n",
            "2689,202873.4337372143\r\n",
            "2690,463219.13734427025\r\n",
            "2691,178710.1625971256\r\n",
            "2692,134086.566891615\r\n",
            "2693,200579.7340764696\r\n",
            "2694,145928.12963244983\r\n",
            "2695,191902.37299805446\r\n",
            "2696,182372.96593391913\r\n",
            "2697,181708.54513897828\r\n",
            "2698,188621.13989347854\r\n",
            "2699,168007.5803550607\r\n",
            "2700,147298.1397039437\r\n",
            "2701,152337.2967665262\r\n",
            "2702,114658.51319773808\r\n",
            "2703,144190.45678956882\r\n",
            "2704,149430.6349494838\r\n",
            "2705,112677.03168465142\r\n",
            "2706,112628.30455660915\r\n",
            "2707,123114.80069069007\r\n",
            "2708,126108.29091298419\r\n",
            "2709,109121.85532349735\r\n",
            "2710,127382.51850305572\r\n",
            "2711,349328.4052079925\r\n",
            "2712,381401.8419480261\r\n",
            "2713,169459.56297570476\r\n",
            "2714,149357.224986084\r\n",
            "2715,149434.95665479565\r\n",
            "2716,146251.47000135784\r\n",
            "2717,176603.648942127\r\n",
            "2718,212288.25183449042\r\n",
            "2719,144265.707488914\r\n",
            "2720,195114.91563838487\r\n",
            "2721,131431.3214419476\r\n",
            "2722,161327.8077371664\r\n",
            "2723,163095.68317209702\r\n",
            "2724,121698.47335092262\r\n",
            "2725,123413.35217587357\r\n",
            "2726,142008.13619427118\r\n",
            "2727,196376.66469734884\r\n",
            "2728,173729.20464797577\r\n",
            "2729,150163.03874526452\r\n",
            "2730,138333.72838233912\r\n",
            "2731,130518.48113073873\r\n",
            "2732,119575.85906120135\r\n",
            "2733,172669.94804816955\r\n",
            "2734,157479.4916970362\r\n",
            "2735,122750.56817216298\r\n",
            "2736,135883.54041607954\r\n",
            "2737,117699.6041209161\r\n",
            "2738,136819.21881334484\r\n",
            "2739,160204.2039866066\r\n",
            "2740,135361.97639884104\r\n",
            "2741,132232.95540775667\r\n",
            "2742,154676.07787403787\r\n",
            "2743,143725.614131168\r\n",
            "2744,163218.14389271784\r\n",
            "2745,153247.74030639563\r\n",
            "2746,121727.00501125377\r\n",
            "2747,134405.07568929106\r\n",
            "2748,121388.29058247355\r\n",
            "2749,129901.2690462013\r\n",
            "2750,125680.91719527222\r\n",
            "2751,125707.08838628465\r\n",
            "2752,215301.81790604346\r\n",
            "2753,155325.80544314266\r\n",
            "2754,253131.44853230318\r\n",
            "2755,133363.35458824315\r\n",
            "2756,98058.66921176313\r\n",
            "2757,77564.46379263609\r\n",
            "2758,91878.53509394224\r\n",
            "2759,156073.1893693829\r\n",
            "2760,115973.96359266022\r\n",
            "2761,132253.18930973075\r\n",
            "2762,134277.3167053619\r\n",
            "2763,214493.23389490435\r\n",
            "2764,150233.115451327\r\n",
            "2765,307274.1243547789\r\n",
            "2766,129517.10311462282\r\n",
            "2767,76718.19066625064\r\n",
            "2768,114116.71222576711\r\n",
            "2769,120093.7332833979\r\n",
            "2770,157670.01820848245\r\n",
            "2771,111082.26873738845\r\n",
            "2772,106066.97424888558\r\n",
            "2773,152123.66607552988\r\n",
            "2774,131994.84240021542\r\n",
            "2775,120248.70139255331\r\n",
            "2776,134501.87060098784\r\n",
            "2777,141049.84382942598\r\n",
            "2778,130853.07856646233\r\n",
            "2779,105410.2949654839\r\n",
            "2780,104512.50020725535\r\n",
            "2781,101366.35596536385\r\n",
            "2782,95331.44752604133\r\n",
            "2783,89282.4981797779\r\n",
            "2784,122003.32842449174\r\n",
            "2785,130292.25712573554\r\n",
            "2786,71748.73679056358\r\n",
            "2787,128125.31479746562\r\n",
            "2788,72557.54809099117\r\n",
            "2789,166353.16827861744\r\n",
            "2790,99021.56443114573\r\n",
            "2791,103184.90167700892\r\n",
            "2792,66533.50098861006\r\n",
            "2793,153346.86382666393\r\n",
            "2794,86704.84798436775\r\n",
            "2795,116481.61138246549\r\n",
            "2796,91608.65376173024\r\n",
            "2797,204439.69206005943\r\n",
            "2798,110330.85351589942\r\n",
            "2799,113082.46110402499\r\n",
            "2800,73795.88760111251\r\n",
            "2801,117582.54291615261\r\n",
            "2802,123762.59011889747\r\n",
            "2803,161623.88744761675\r\n",
            "2804,126008.00740539566\r\n",
            "2805,107083.0716082011\r\n",
            "2806,81283.63004186742\r\n",
            "2807,159949.4267686862\r\n",
            "2808,143909.7555686607\r\n",
            "2809,125178.60391858222\r\n",
            "2810,127663.77116242837\r\n",
            "2811,160641.9716705777\r\n",
            "2812,170853.80641894139\r\n",
            "2813,159512.61267062268\r\n",
            "2814,162143.40727884055\r\n",
            "2815,101147.58704584495\r\n",
            "2816,245927.5160490893\r\n",
            "2817,152029.0085804852\r\n",
            "2818,129656.22384332353\r\n",
            "2819,172622.41373802576\r\n",
            "2820,130904.34021384835\r\n",
            "2821,114982.69227917105\r\n",
            "2822,195359.71035430042\r\n",
            "2823,342361.1907013463\r\n",
            "2824,171936.02060550716\r\n",
            "2825,145553.76907351334\r\n",
            "2826,129874.93587005946\r\n",
            "2827,134849.13456600902\r\n",
            "2828,215968.85509155478\r\n",
            "2829,242371.9897500382\r\n",
            "2830,238600.20578027447\r\n",
            "2831,185221.39873664727\r\n",
            "2832,257276.032770444\r\n",
            "2833,278662.4320914464\r\n",
            "2834,219024.22689271226\r\n",
            "2835,214120.21610878527\r\n",
            "2836,183518.0986591402\r\n",
            "2837,170318.8680959425\r\n",
            "2838,145145.02126448083\r\n",
            "2839,171966.67486925394\r\n",
            "2840,194170.82256955976\r\n",
            "2841,195649.7377027908\r\n",
            "2842,226240.91877421315\r\n",
            "2843,147804.29107090295\r\n",
            "2844,171424.42945039063\r\n",
            "2845,128132.14087076417\r\n",
            "2846,198918.74197715026\r\n",
            "2847,197744.7224326704\r\n",
            "2848,218338.86061247197\r\n",
            "2849,196033.27225543003\r\n",
            "2850,282379.6558203003\r\n",
            "2851,222590.53652643625\r\n",
            "2852,231640.7313992464\r\n",
            "2853,230986.68370910303\r\n",
            "2854,141112.61818082863\r\n",
            "2855,205747.8255116677\r\n",
            "2856,203378.87508143694\r\n",
            "2857,185508.5298521006\r\n",
            "2858,213478.68327565157\r\n",
            "2859,113580.00482412861\r\n",
            "2860,119655.1947964419\r\n",
            "2861,127420.80378351243\r\n",
            "2862,205504.52048329441\r\n",
            "2863,128715.34165416085\r\n",
            "2864,234348.6776061702\r\n",
            "2865,148613.38483766463\r\n",
            "2866,172619.134398292\r\n",
            "2867,97088.26795043923\r\n",
            "2868,108935.0434519101\r\n",
            "2869,110773.41806381592\r\n",
            "2870,126447.90645216746\r\n",
            "2871,89599.16490662086\r\n",
            "2872,58045.564222025314\r\n",
            "2873,100401.26997518589\r\n",
            "2874,124456.38709493756\r\n",
            "2875,125906.2618629869\r\n",
            "2876,177684.24743091429\r\n",
            "2877,130983.78280800577\r\n",
            "2878,159385.61151306154\r\n",
            "2879,127521.30558544713\r\n",
            "2880,99314.20604219467\r\n",
            "2881,136158.9253494067\r\n",
            "2882,147562.3103371194\r\n",
            "2883,167829.49230634005\r\n",
            "2884,191494.3171243067\r\n",
            "2885,153636.2765798346\r\n",
            "2886,218725.14818631695\r\n",
            "2887,109346.36781576449\r\n",
            "2888,132617.64435780977\r\n",
            "2889,68830.41529872603\r\n",
            "2890,84571.75108856795\r\n",
            "2891,130950.64482604741\r\n",
            "2892,68706.12569347734\r\n",
            "2893,97550.39281285109\r\n",
            "2894,66365.84886333745\r\n",
            "2895,283110.78388804046\r\n",
            "2896,251310.71041339517\r\n",
            "2897,200979.13513862662\r\n",
            "2898,166253.76166589453\r\n",
            "2899,204869.13921691885\r\n",
            "2900,157746.0485537866\r\n",
            "2901,209361.8822982141\r\n",
            "2902,181571.34201671227\r\n",
            "2903,342538.52875927807\r\n",
            "2904,347118.4273607411\r\n",
            "2905,77486.03728967746\r\n",
            "2906,214093.4368288174\r\n",
            "2907,120313.34582911353\r\n",
            "2908,127024.81178121382\r\n",
            "2909,159388.96324346546\r\n",
            "2910,85967.18713419659\r\n",
            "2911,92269.10777178605\r\n",
            "2912,144126.17953551604\r\n",
            "2913,97626.69248289867\r\n",
            "2914,87471.39873891605\r\n",
            "2915,97120.45795658465\r\n",
            "2916,98661.53007414154\r\n",
            "2917,184435.3630391919\r\n",
            "2918,109901.82646548054\r\n",
            "2919,240479.31996392622\r\n"
          ],
          "name": "stdout"
        }
      ]
    },
    {
      "metadata": {
        "id": "Wb5e8K441WdQ",
        "colab_type": "code",
        "colab": {
          "autoexec": {
            "startup": false,
            "wait_interval": 0
          }
        }
      },
      "cell_type": "code",
      "source": [
        ""
      ],
      "execution_count": 0,
      "outputs": []
    }
  ]
}